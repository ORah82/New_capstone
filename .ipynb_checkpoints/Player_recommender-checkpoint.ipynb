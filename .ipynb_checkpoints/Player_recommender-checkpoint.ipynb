{
 "cells": [
  {
   "cell_type": "code",
   "execution_count": 48,
   "metadata": {
    "ExecuteTime": {
     "end_time": "2019-06-26T19:23:37.971412Z",
     "start_time": "2019-06-26T19:23:37.969382Z"
    },
    "extensions": {
     "jupyter_dashboards": {
      "version": 1,
      "views": {
       "grid_default": {},
       "report_default": {
        "hidden": true
       }
      }
     }
    }
   },
   "outputs": [],
   "source": [
    "#!pip install jupyter_dashboards "
   ]
  },
  {
   "cell_type": "code",
   "execution_count": null,
   "metadata": {
    "ExecuteTime": {
     "end_time": "2019-06-04T19:45:16.128873Z",
     "start_time": "2019-06-04T19:45:16.124713Z"
    },
    "extensions": {
     "jupyter_dashboards": {
      "version": 1,
      "views": {
       "grid_default": {},
       "report_default": {
        "hidden": true
       }
      }
     }
    }
   },
   "outputs": [],
   "source": []
  },
  {
   "cell_type": "code",
   "execution_count": 49,
   "metadata": {
    "ExecuteTime": {
     "end_time": "2019-06-26T19:23:37.977757Z",
     "start_time": "2019-06-26T19:23:37.974768Z"
    },
    "extensions": {
     "jupyter_dashboards": {
      "version": 1,
      "views": {
       "grid_default": {},
       "report_default": {
        "hidden": true
       }
      }
     }
    }
   },
   "outputs": [],
   "source": [
    "from pybaseball import statcast_pitcher, pitching_leaders\n",
    "import numpy as np\n",
    "import pandas as pd\n",
    "from scipy import sparse\n",
    "from sklearn.metrics.pairwise import pairwise_distances"
   ]
  },
  {
   "cell_type": "code",
   "execution_count": 50,
   "metadata": {
    "ExecuteTime": {
     "end_time": "2019-06-26T19:23:37.981773Z",
     "start_time": "2019-06-26T19:23:37.979748Z"
    },
    "extensions": {
     "jupyter_dashboards": {
      "version": 1,
      "views": {
       "grid_default": {},
       "report_default": {
        "hidden": true
       }
      }
     }
    }
   },
   "outputs": [],
   "source": [
    "# from pybaseball import pitching_stats\n",
    "# data = pitching_stats(2019)\n",
    "# data.head()"
   ]
  },
  {
   "cell_type": "code",
   "execution_count": 51,
   "metadata": {
    "ExecuteTime": {
     "end_time": "2019-06-26T19:23:37.984982Z",
     "start_time": "2019-06-26T19:23:37.983051Z"
    },
    "extensions": {
     "jupyter_dashboards": {
      "version": 1,
      "views": {
       "grid_default": {},
       "report_default": {
        "hidden": true
       }
      }
     }
    },
    "scrolled": true
   },
   "outputs": [],
   "source": [
    "# data = pitching_leaders.pitching_stats(start_season=2019, qual=25)\n",
    "# pd.set_option('display.max_columns', 500)\n",
    "# data.head(20)"
   ]
  },
  {
   "cell_type": "code",
   "execution_count": 52,
   "metadata": {
    "ExecuteTime": {
     "end_time": "2019-06-26T19:23:37.988883Z",
     "start_time": "2019-06-26T19:23:37.987093Z"
    },
    "extensions": {
     "jupyter_dashboards": {
      "version": 1,
      "views": {
       "grid_default": {},
       "report_default": {
        "hidden": true
       }
      }
     }
    }
   },
   "outputs": [],
   "source": [
    "# cols = list(pd.read_csv(\"rec_pitchers_1\", nrows =1))\n",
    "# print(cols)"
   ]
  },
  {
   "cell_type": "code",
   "execution_count": 53,
   "metadata": {
    "ExecuteTime": {
     "end_time": "2019-06-26T19:23:37.993254Z",
     "start_time": "2019-06-26T19:23:37.990974Z"
    },
    "extensions": {
     "jupyter_dashboards": {
      "version": 1,
      "views": {
       "grid_default": {},
       "report_default": {
        "hidden": true
       }
      }
     }
    }
   },
   "outputs": [],
   "source": [
    "#pitchers = pd.read_csv(\"rec_pitchers_1\", usecols =[i for i in cols if i != 'Unnamed: 0'])"
   ]
  },
  {
   "cell_type": "code",
   "execution_count": 54,
   "metadata": {
    "ExecuteTime": {
     "end_time": "2019-06-26T19:23:38.000451Z",
     "start_time": "2019-06-26T19:23:37.994914Z"
    },
    "extensions": {
     "jupyter_dashboards": {
      "version": 1,
      "views": {
       "grid_default": {},
       "report_default": {
        "hidden": true
       }
      }
     }
    }
   },
   "outputs": [],
   "source": [
    "pitchers = pd.read_csv('/Users/orah82/baseball_rec_sys',index_col=\"Player/Team\")"
   ]
  },
  {
   "cell_type": "code",
   "execution_count": 55,
   "metadata": {
    "ExecuteTime": {
     "end_time": "2019-06-26T19:23:38.005410Z",
     "start_time": "2019-06-26T19:23:38.002131Z"
    },
    "extensions": {
     "jupyter_dashboards": {
      "version": 1,
      "views": {
       "grid_default": {},
       "report_default": {
        "hidden": false
       }
      }
     }
    }
   },
   "outputs": [
    {
     "data": {
      "text/plain": [
       "(615, 4)"
      ]
     },
     "execution_count": 55,
     "metadata": {},
     "output_type": "execute_result"
    }
   ],
   "source": [
    "pitchers.shape"
   ]
  },
  {
   "cell_type": "code",
   "execution_count": 56,
   "metadata": {
    "ExecuteTime": {
     "end_time": "2019-06-26T19:23:38.009480Z",
     "start_time": "2019-06-26T19:23:38.007260Z"
    },
    "extensions": {
     "jupyter_dashboards": {
      "version": 1,
      "views": {
       "grid_default": {},
       "report_default": {
        "hidden": true
       }
      }
     }
    }
   },
   "outputs": [],
   "source": [
    "data = pitchers"
   ]
  },
  {
   "cell_type": "code",
   "execution_count": 57,
   "metadata": {
    "ExecuteTime": {
     "end_time": "2019-06-26T19:23:38.020760Z",
     "start_time": "2019-06-26T19:23:38.012008Z"
    },
    "extensions": {
     "jupyter_dashboards": {
      "version": 1,
      "views": {
       "grid_default": {},
       "report_default": {
        "hidden": false
       }
      }
     }
    }
   },
   "outputs": [
    {
     "data": {
      "text/html": [
       "<div>\n",
       "<style scoped>\n",
       "    .dataframe tbody tr th:only-of-type {\n",
       "        vertical-align: middle;\n",
       "    }\n",
       "\n",
       "    .dataframe tbody tr th {\n",
       "        vertical-align: top;\n",
       "    }\n",
       "\n",
       "    .dataframe thead th {\n",
       "        text-align: right;\n",
       "    }\n",
       "</style>\n",
       "<table border=\"1\" class=\"dataframe\">\n",
       "  <thead>\n",
       "    <tr style=\"text-align: right;\">\n",
       "      <th></th>\n",
       "      <th>Age</th>\n",
       "      <th>FIP</th>\n",
       "      <th>Dollars</th>\n",
       "      <th>F-Strike%</th>\n",
       "    </tr>\n",
       "    <tr>\n",
       "      <th>Player/Team</th>\n",
       "      <th></th>\n",
       "      <th></th>\n",
       "      <th></th>\n",
       "      <th></th>\n",
       "    </tr>\n",
       "  </thead>\n",
       "  <tbody>\n",
       "    <tr>\n",
       "      <th>Max Scherzer(Nationals)</th>\n",
       "      <td>34.0</td>\n",
       "      <td>2.12</td>\n",
       "      <td>27.1</td>\n",
       "      <td>0.703</td>\n",
       "    </tr>\n",
       "    <tr>\n",
       "      <th>Matthew Boyd(Tigers)</th>\n",
       "      <td>28.0</td>\n",
       "      <td>2.75</td>\n",
       "      <td>21.7</td>\n",
       "      <td>0.632</td>\n",
       "    </tr>\n",
       "    <tr>\n",
       "      <th>Lucas Giolito(White Sox)</th>\n",
       "      <td>24.0</td>\n",
       "      <td>2.62</td>\n",
       "      <td>20.4</td>\n",
       "      <td>0.617</td>\n",
       "    </tr>\n",
       "    <tr>\n",
       "      <th>Stephen Strasburg(Nationals)</th>\n",
       "      <td>30.0</td>\n",
       "      <td>2.68</td>\n",
       "      <td>20.7</td>\n",
       "      <td>0.655</td>\n",
       "    </tr>\n",
       "    <tr>\n",
       "      <th>Hyun-Jin Ryu(Dodgers)</th>\n",
       "      <td>32.0</td>\n",
       "      <td>2.52</td>\n",
       "      <td>19.3</td>\n",
       "      <td>0.648</td>\n",
       "    </tr>\n",
       "  </tbody>\n",
       "</table>\n",
       "</div>"
      ],
      "text/plain": [
       "                               Age   FIP  Dollars  F-Strike%\n",
       "Player/Team                                                 \n",
       "Max Scherzer(Nationals)       34.0  2.12     27.1      0.703\n",
       "Matthew Boyd(Tigers)          28.0  2.75     21.7      0.632\n",
       "Lucas Giolito(White Sox)      24.0  2.62     20.4      0.617\n",
       "Stephen Strasburg(Nationals)  30.0  2.68     20.7      0.655\n",
       "Hyun-Jin Ryu(Dodgers)         32.0  2.52     19.3      0.648"
      ]
     },
     "execution_count": 57,
     "metadata": {},
     "output_type": "execute_result"
    }
   ],
   "source": [
    "data.head()"
   ]
  },
  {
   "cell_type": "code",
   "execution_count": null,
   "metadata": {
    "extensions": {
     "jupyter_dashboards": {
      "version": 1,
      "views": {
       "grid_default": {},
       "report_default": {
        "hidden": true
       }
      }
     }
    }
   },
   "outputs": [],
   "source": []
  },
  {
   "cell_type": "code",
   "execution_count": 58,
   "metadata": {
    "ExecuteTime": {
     "end_time": "2019-06-26T19:23:38.025404Z",
     "start_time": "2019-06-26T19:23:38.023090Z"
    },
    "extensions": {
     "jupyter_dashboards": {
      "version": 1,
      "views": {
       "grid_default": {},
       "report_default": {
        "hidden": true
       }
      }
     }
    }
   },
   "outputs": [],
   "source": [
    "# data[\"Player/Team\"] = data[\"Name\"].map(str) + data[\"Team\"]"
   ]
  },
  {
   "cell_type": "code",
   "execution_count": 59,
   "metadata": {
    "ExecuteTime": {
     "end_time": "2019-06-26T19:23:38.037628Z",
     "start_time": "2019-06-26T19:23:38.026935Z"
    },
    "extensions": {
     "jupyter_dashboards": {
      "version": 1,
      "views": {
       "grid_default": {},
       "report_default": {
        "hidden": false
       }
      }
     }
    }
   },
   "outputs": [
    {
     "data": {
      "text/html": [
       "<div>\n",
       "<style scoped>\n",
       "    .dataframe tbody tr th:only-of-type {\n",
       "        vertical-align: middle;\n",
       "    }\n",
       "\n",
       "    .dataframe tbody tr th {\n",
       "        vertical-align: top;\n",
       "    }\n",
       "\n",
       "    .dataframe thead th {\n",
       "        text-align: right;\n",
       "    }\n",
       "</style>\n",
       "<table border=\"1\" class=\"dataframe\">\n",
       "  <thead>\n",
       "    <tr style=\"text-align: right;\">\n",
       "      <th></th>\n",
       "      <th>Age</th>\n",
       "      <th>FIP</th>\n",
       "      <th>Dollars</th>\n",
       "      <th>F-Strike%</th>\n",
       "    </tr>\n",
       "    <tr>\n",
       "      <th>Player/Team</th>\n",
       "      <th></th>\n",
       "      <th></th>\n",
       "      <th></th>\n",
       "      <th></th>\n",
       "    </tr>\n",
       "  </thead>\n",
       "  <tbody>\n",
       "    <tr>\n",
       "      <th>Max Scherzer(Nationals)</th>\n",
       "      <td>34.0</td>\n",
       "      <td>2.12</td>\n",
       "      <td>27.1</td>\n",
       "      <td>0.703</td>\n",
       "    </tr>\n",
       "    <tr>\n",
       "      <th>Matthew Boyd(Tigers)</th>\n",
       "      <td>28.0</td>\n",
       "      <td>2.75</td>\n",
       "      <td>21.7</td>\n",
       "      <td>0.632</td>\n",
       "    </tr>\n",
       "    <tr>\n",
       "      <th>Lucas Giolito(White Sox)</th>\n",
       "      <td>24.0</td>\n",
       "      <td>2.62</td>\n",
       "      <td>20.4</td>\n",
       "      <td>0.617</td>\n",
       "    </tr>\n",
       "    <tr>\n",
       "      <th>Stephen Strasburg(Nationals)</th>\n",
       "      <td>30.0</td>\n",
       "      <td>2.68</td>\n",
       "      <td>20.7</td>\n",
       "      <td>0.655</td>\n",
       "    </tr>\n",
       "    <tr>\n",
       "      <th>Hyun-Jin Ryu(Dodgers)</th>\n",
       "      <td>32.0</td>\n",
       "      <td>2.52</td>\n",
       "      <td>19.3</td>\n",
       "      <td>0.648</td>\n",
       "    </tr>\n",
       "    <tr>\n",
       "      <th>Lance Lynn(Rangers)</th>\n",
       "      <td>32.0</td>\n",
       "      <td>3.17</td>\n",
       "      <td>18.3</td>\n",
       "      <td>0.591</td>\n",
       "    </tr>\n",
       "    <tr>\n",
       "      <th>German Marquez(Rockies)</th>\n",
       "      <td>24.0</td>\n",
       "      <td>3.27</td>\n",
       "      <td>18.0</td>\n",
       "      <td>0.680</td>\n",
       "    </tr>\n",
       "    <tr>\n",
       "      <th>Jake Odorizzi(Twins)</th>\n",
       "      <td>29.0</td>\n",
       "      <td>2.80</td>\n",
       "      <td>17.0</td>\n",
       "      <td>0.568</td>\n",
       "    </tr>\n",
       "    <tr>\n",
       "      <th>Mike Minor(Rangers)</th>\n",
       "      <td>31.0</td>\n",
       "      <td>3.43</td>\n",
       "      <td>16.4</td>\n",
       "      <td>0.631</td>\n",
       "    </tr>\n",
       "    <tr>\n",
       "      <th>Frankie Montas(Athletics)</th>\n",
       "      <td>26.0</td>\n",
       "      <td>2.87</td>\n",
       "      <td>15.9</td>\n",
       "      <td>0.605</td>\n",
       "    </tr>\n",
       "    <tr>\n",
       "      <th>Justin Verlander(Astros)</th>\n",
       "      <td>36.0</td>\n",
       "      <td>3.66</td>\n",
       "      <td>15.2</td>\n",
       "      <td>0.648</td>\n",
       "    </tr>\n",
       "    <tr>\n",
       "      <th>Charlie Morton(Rays)</th>\n",
       "      <td>35.0</td>\n",
       "      <td>2.87</td>\n",
       "      <td>15.5</td>\n",
       "      <td>0.601</td>\n",
       "    </tr>\n",
       "    <tr>\n",
       "      <th>Kyle Hendricks(Cubs)</th>\n",
       "      <td>29.0</td>\n",
       "      <td>3.24</td>\n",
       "      <td>15.3</td>\n",
       "      <td>0.676</td>\n",
       "    </tr>\n",
       "    <tr>\n",
       "      <th>Gerrit Cole(Astros)</th>\n",
       "      <td>28.0</td>\n",
       "      <td>3.27</td>\n",
       "      <td>15.3</td>\n",
       "      <td>0.629</td>\n",
       "    </tr>\n",
       "    <tr>\n",
       "      <th>Zack Wheeler(Mets)</th>\n",
       "      <td>29.0</td>\n",
       "      <td>3.34</td>\n",
       "      <td>15.3</td>\n",
       "      <td>0.660</td>\n",
       "    </tr>\n",
       "    <tr>\n",
       "      <th>Jose Berrios(Twins)</th>\n",
       "      <td>25.0</td>\n",
       "      <td>3.70</td>\n",
       "      <td>14.4</td>\n",
       "      <td>0.664</td>\n",
       "    </tr>\n",
       "    <tr>\n",
       "      <th>Tyler Glasnow(Rays)</th>\n",
       "      <td>25.0</td>\n",
       "      <td>2.23</td>\n",
       "      <td>14.6</td>\n",
       "      <td>0.623</td>\n",
       "    </tr>\n",
       "    <tr>\n",
       "      <th>Kirby Yates(Padres)</th>\n",
       "      <td>32.0</td>\n",
       "      <td>0.83</td>\n",
       "      <td>14.1</td>\n",
       "      <td>0.610</td>\n",
       "    </tr>\n",
       "    <tr>\n",
       "      <th>Brandon Woodruff(Brewers)</th>\n",
       "      <td>26.0</td>\n",
       "      <td>3.14</td>\n",
       "      <td>13.8</td>\n",
       "      <td>0.590</td>\n",
       "    </tr>\n",
       "    <tr>\n",
       "      <th>Mike Soroka(Braves)</th>\n",
       "      <td>21.0</td>\n",
       "      <td>2.74</td>\n",
       "      <td>13.9</td>\n",
       "      <td>0.634</td>\n",
       "    </tr>\n",
       "  </tbody>\n",
       "</table>\n",
       "</div>"
      ],
      "text/plain": [
       "                               Age   FIP  Dollars  F-Strike%\n",
       "Player/Team                                                 \n",
       "Max Scherzer(Nationals)       34.0  2.12     27.1      0.703\n",
       "Matthew Boyd(Tigers)          28.0  2.75     21.7      0.632\n",
       "Lucas Giolito(White Sox)      24.0  2.62     20.4      0.617\n",
       "Stephen Strasburg(Nationals)  30.0  2.68     20.7      0.655\n",
       "Hyun-Jin Ryu(Dodgers)         32.0  2.52     19.3      0.648\n",
       "Lance Lynn(Rangers)           32.0  3.17     18.3      0.591\n",
       "German Marquez(Rockies)       24.0  3.27     18.0      0.680\n",
       "Jake Odorizzi(Twins)          29.0  2.80     17.0      0.568\n",
       "Mike Minor(Rangers)           31.0  3.43     16.4      0.631\n",
       "Frankie Montas(Athletics)     26.0  2.87     15.9      0.605\n",
       "Justin Verlander(Astros)      36.0  3.66     15.2      0.648\n",
       "Charlie Morton(Rays)          35.0  2.87     15.5      0.601\n",
       "Kyle Hendricks(Cubs)          29.0  3.24     15.3      0.676\n",
       "Gerrit Cole(Astros)           28.0  3.27     15.3      0.629\n",
       "Zack Wheeler(Mets)            29.0  3.34     15.3      0.660\n",
       "Jose Berrios(Twins)           25.0  3.70     14.4      0.664\n",
       "Tyler Glasnow(Rays)           25.0  2.23     14.6      0.623\n",
       "Kirby Yates(Padres)           32.0  0.83     14.1      0.610\n",
       "Brandon Woodruff(Brewers)     26.0  3.14     13.8      0.590\n",
       "Mike Soroka(Braves)           21.0  2.74     13.9      0.634"
      ]
     },
     "execution_count": 59,
     "metadata": {},
     "output_type": "execute_result"
    }
   ],
   "source": [
    "data.head(20)"
   ]
  },
  {
   "cell_type": "code",
   "execution_count": 60,
   "metadata": {
    "ExecuteTime": {
     "end_time": "2019-06-26T19:23:38.040861Z",
     "start_time": "2019-06-26T19:23:38.039086Z"
    },
    "extensions": {
     "jupyter_dashboards": {
      "version": 1,
      "views": {
       "grid_default": {},
       "report_default": {
        "hidden": true
       }
      }
     }
    }
   },
   "outputs": [],
   "source": [
    "# data.head()\n",
    "\n",
    "# features = ['Player/Team', 'Age','FIP','Dollars','F-Strike%']\n",
    "\n",
    "# data = data[features]"
   ]
  },
  {
   "cell_type": "code",
   "execution_count": 61,
   "metadata": {
    "ExecuteTime": {
     "end_time": "2019-06-26T19:23:38.044329Z",
     "start_time": "2019-06-26T19:23:38.042403Z"
    },
    "extensions": {
     "jupyter_dashboards": {
      "version": 1,
      "views": {
       "grid_default": {},
       "report_default": {
        "hidden": true
       }
      }
     }
    }
   },
   "outputs": [],
   "source": [
    "# data = data.set_index('Player/Team')"
   ]
  },
  {
   "cell_type": "code",
   "execution_count": 62,
   "metadata": {
    "ExecuteTime": {
     "end_time": "2019-06-26T19:23:38.048144Z",
     "start_time": "2019-06-26T19:23:38.045818Z"
    },
    "extensions": {
     "jupyter_dashboards": {
      "version": 1,
      "views": {
       "grid_default": {},
       "report_default": {
        "hidden": true
       }
      }
     }
    }
   },
   "outputs": [],
   "source": [
    "# data.info()\n",
    "\n",
    "# data['Dollars'] = data.Dollars.str.replace(\"$\",\"\")\n",
    "\n",
    "# data['Dollars']= pd.to_numeric(data.Dollars, errors='coerce')\n",
    "\n",
    "# data.info()"
   ]
  },
  {
   "cell_type": "code",
   "execution_count": 63,
   "metadata": {
    "ExecuteTime": {
     "end_time": "2019-06-26T19:23:38.051947Z",
     "start_time": "2019-06-26T19:23:38.049809Z"
    },
    "extensions": {
     "jupyter_dashboards": {
      "version": 1,
      "views": {
       "grid_default": {},
       "report_default": {
        "hidden": true
       }
      }
     }
    }
   },
   "outputs": [],
   "source": [
    "import sys"
   ]
  },
  {
   "cell_type": "code",
   "execution_count": 64,
   "metadata": {
    "ExecuteTime": {
     "end_time": "2019-06-26T19:23:38.058733Z",
     "start_time": "2019-06-26T19:23:38.053320Z"
    },
    "extensions": {
     "jupyter_dashboards": {
      "version": 1,
      "views": {
       "grid_default": {},
       "report_default": {
        "hidden": false
       }
      }
     }
    }
   },
   "outputs": [
    {
     "data": {
      "text/plain": [
       "67861"
      ]
     },
     "execution_count": 64,
     "metadata": {},
     "output_type": "execute_result"
    }
   ],
   "source": [
    "sys.getsizeof(data)"
   ]
  },
  {
   "cell_type": "code",
   "execution_count": 65,
   "metadata": {
    "ExecuteTime": {
     "end_time": "2019-06-26T19:23:38.063514Z",
     "start_time": "2019-06-26T19:23:38.060184Z"
    },
    "extensions": {
     "jupyter_dashboards": {
      "version": 1,
      "views": {
       "grid_default": {},
       "report_default": {
        "hidden": true
       }
      }
     }
    }
   },
   "outputs": [],
   "source": [
    "sparse = sparse.csr_matrix(data.fillna(0))"
   ]
  },
  {
   "cell_type": "code",
   "execution_count": 66,
   "metadata": {
    "ExecuteTime": {
     "end_time": "2019-06-26T19:23:38.068268Z",
     "start_time": "2019-06-26T19:23:38.064771Z"
    },
    "extensions": {
     "jupyter_dashboards": {
      "version": 1,
      "views": {
       "grid_default": {},
       "report_default": {
        "hidden": false
       }
      }
     }
    }
   },
   "outputs": [
    {
     "data": {
      "text/plain": [
       "(615, 4)"
      ]
     },
     "execution_count": 66,
     "metadata": {},
     "output_type": "execute_result"
    }
   ],
   "source": [
    "sparse.shape"
   ]
  },
  {
   "cell_type": "code",
   "execution_count": 67,
   "metadata": {
    "ExecuteTime": {
     "end_time": "2019-06-26T19:23:38.073768Z",
     "start_time": "2019-06-26T19:23:38.069759Z"
    },
    "extensions": {
     "jupyter_dashboards": {
      "version": 1,
      "views": {
       "grid_default": {},
       "report_default": {
        "hidden": false
       }
      }
     }
    }
   },
   "outputs": [
    {
     "data": {
      "text/plain": [
       "56"
      ]
     },
     "execution_count": 67,
     "metadata": {},
     "output_type": "execute_result"
    }
   ],
   "source": [
    "sys.getsizeof(sparse)"
   ]
  },
  {
   "cell_type": "code",
   "execution_count": 68,
   "metadata": {
    "ExecuteTime": {
     "end_time": "2019-06-26T19:23:38.078702Z",
     "start_time": "2019-06-26T19:23:38.075350Z"
    },
    "extensions": {
     "jupyter_dashboards": {
      "version": 1,
      "views": {
       "grid_default": {},
       "report_default": {
        "hidden": false
       }
      }
     }
    }
   },
   "outputs": [
    {
     "data": {
      "text/plain": [
       "scipy.sparse.csr.csr_matrix"
      ]
     },
     "execution_count": 68,
     "metadata": {},
     "output_type": "execute_result"
    }
   ],
   "source": [
    "type(sparse)"
   ]
  },
  {
   "cell_type": "code",
   "execution_count": 69,
   "metadata": {
    "ExecuteTime": {
     "end_time": "2019-06-26T19:23:38.083614Z",
     "start_time": "2019-06-26T19:23:38.080249Z"
    },
    "extensions": {
     "jupyter_dashboards": {
      "version": 1,
      "views": {
       "grid_default": {},
       "report_default": {
        "hidden": false
       }
      }
     }
    }
   },
   "outputs": [
    {
     "name": "stdout",
     "output_type": "stream",
     "text": [
      "  (0, 0)\t34.0\n",
      "  (0, 1)\t2.12\n",
      "  (0, 2)\t27.1\n",
      "  (0, 3)\t0.703\n",
      "  (1, 0)\t28.0\n",
      "  (1, 1)\t2.75\n",
      "  (1, 2)\t21.7\n",
      "  (1, 3)\t0.632\n",
      "  (2, 0)\t24.0\n",
      "  (2, 1)\t2.62\n",
      "  (2, 2)\t20.4\n",
      "  (2, 3)\t0.617\n",
      "  (3, 0)\t30.0\n",
      "  (3, 1)\t2.68\n",
      "  (3, 2)\t20.7\n",
      "  (3, 3)\t0.655\n",
      "  (4, 0)\t32.0\n",
      "  (4, 1)\t2.52\n",
      "  (4, 2)\t19.3\n",
      "  (4, 3)\t0.648\n"
     ]
    }
   ],
   "source": [
    "print(sparse[:5, :])"
   ]
  },
  {
   "cell_type": "code",
   "execution_count": 70,
   "metadata": {
    "ExecuteTime": {
     "end_time": "2019-06-26T19:23:38.086957Z",
     "start_time": "2019-06-26T19:23:38.085053Z"
    },
    "extensions": {
     "jupyter_dashboards": {
      "version": 1,
      "views": {
       "grid_default": {},
       "report_default": {
        "hidden": true
       }
      }
     }
    }
   },
   "outputs": [],
   "source": [
    "#np.all(np.isfinite(sparse))"
   ]
  },
  {
   "cell_type": "code",
   "execution_count": 71,
   "metadata": {
    "ExecuteTime": {
     "end_time": "2019-06-26T19:23:38.091637Z",
     "start_time": "2019-06-26T19:23:38.088511Z"
    },
    "extensions": {
     "jupyter_dashboards": {
      "version": 1,
      "views": {
       "grid_default": {},
       "report_default": {
        "hidden": false
       }
      }
     }
    }
   },
   "outputs": [
    {
     "data": {
      "text/plain": [
       "(615, 4)"
      ]
     },
     "execution_count": 71,
     "metadata": {},
     "output_type": "execute_result"
    }
   ],
   "source": [
    "sparse.shape"
   ]
  },
  {
   "cell_type": "code",
   "execution_count": 72,
   "metadata": {
    "ExecuteTime": {
     "end_time": "2019-06-26T19:23:38.103385Z",
     "start_time": "2019-06-26T19:23:38.093224Z"
    },
    "extensions": {
     "jupyter_dashboards": {
      "version": 1,
      "views": {
       "grid_default": {},
       "report_default": {
        "hidden": true
       }
      }
     }
    }
   },
   "outputs": [],
   "source": [
    "recommender = pairwise_distances(sparse, metric='cosine')"
   ]
  },
  {
   "cell_type": "code",
   "execution_count": 73,
   "metadata": {
    "ExecuteTime": {
     "end_time": "2019-06-26T19:23:38.110035Z",
     "start_time": "2019-06-26T19:23:38.105166Z"
    },
    "extensions": {
     "jupyter_dashboards": {
      "version": 1,
      "views": {
       "grid_default": {},
       "report_default": {
        "hidden": false
       }
      }
     }
    }
   },
   "outputs": [
    {
     "data": {
      "text/plain": [
       "Index(['Max Scherzer(Nationals)', 'Matthew Boyd(Tigers)',\n",
       "       'Lucas Giolito(White Sox)', 'Stephen Strasburg(Nationals)',\n",
       "       'Hyun-Jin Ryu(Dodgers)'],\n",
       "      dtype='object', name='Player/Team')"
      ]
     },
     "execution_count": 73,
     "metadata": {},
     "output_type": "execute_result"
    }
   ],
   "source": [
    "data.index[:5]"
   ]
  },
  {
   "cell_type": "code",
   "execution_count": 74,
   "metadata": {
    "ExecuteTime": {
     "end_time": "2019-06-26T19:23:38.115690Z",
     "start_time": "2019-06-26T19:23:38.111821Z"
    },
    "extensions": {
     "jupyter_dashboards": {
      "version": 1,
      "views": {
       "grid_default": {},
       "report_default": {
        "hidden": true
       }
      }
     }
    }
   },
   "outputs": [],
   "source": [
    "recommender_df = pd.DataFrame(recommender, \n",
    "                              index=data.index,\n",
    "                              columns=data.index)"
   ]
  },
  {
   "cell_type": "code",
   "execution_count": 75,
   "metadata": {
    "ExecuteTime": {
     "end_time": "2019-06-26T19:23:38.144543Z",
     "start_time": "2019-06-26T19:23:38.120663Z"
    },
    "extensions": {
     "jupyter_dashboards": {
      "version": 1,
      "views": {
       "grid_default": {},
       "report_default": {
        "hidden": false
       }
      }
     }
    }
   },
   "outputs": [
    {
     "data": {
      "text/html": [
       "<div>\n",
       "<style scoped>\n",
       "    .dataframe tbody tr th:only-of-type {\n",
       "        vertical-align: middle;\n",
       "    }\n",
       "\n",
       "    .dataframe tbody tr th {\n",
       "        vertical-align: top;\n",
       "    }\n",
       "\n",
       "    .dataframe thead th {\n",
       "        text-align: right;\n",
       "    }\n",
       "</style>\n",
       "<table border=\"1\" class=\"dataframe\">\n",
       "  <thead>\n",
       "    <tr style=\"text-align: right;\">\n",
       "      <th>Player/Team</th>\n",
       "      <th>Max Scherzer(Nationals)</th>\n",
       "      <th>Matthew Boyd(Tigers)</th>\n",
       "      <th>Lucas Giolito(White Sox)</th>\n",
       "      <th>Stephen Strasburg(Nationals)</th>\n",
       "      <th>Hyun-Jin Ryu(Dodgers)</th>\n",
       "      <th>Lance Lynn(Rangers)</th>\n",
       "      <th>German Marquez(Rockies)</th>\n",
       "      <th>Jake Odorizzi(Twins)</th>\n",
       "      <th>Mike Minor(Rangers)</th>\n",
       "      <th>Frankie Montas(Athletics)</th>\n",
       "      <th>...</th>\n",
       "      <th>Zac Reininger(Tigers)</th>\n",
       "      <th>Matt Koch(Diamondbacks)</th>\n",
       "      <th>Anthony Swarzak(- - -)</th>\n",
       "      <th>Drew Pomeranz(Giants)</th>\n",
       "      <th>Drew Steckenrider(Marlins)</th>\n",
       "      <th>Alex Cobb(Orioles)</th>\n",
       "      <th>Derek Holland(Giants)</th>\n",
       "      <th>Dan Straily(Orioles)</th>\n",
       "      <th>Adam Warren(Padres)</th>\n",
       "      <th>Richard Rodriguez(Pirates)</th>\n",
       "    </tr>\n",
       "    <tr>\n",
       "      <th>Player/Team</th>\n",
       "      <th></th>\n",
       "      <th></th>\n",
       "      <th></th>\n",
       "      <th></th>\n",
       "      <th></th>\n",
       "      <th></th>\n",
       "      <th></th>\n",
       "      <th></th>\n",
       "      <th></th>\n",
       "      <th></th>\n",
       "      <th></th>\n",
       "      <th></th>\n",
       "      <th></th>\n",
       "      <th></th>\n",
       "      <th></th>\n",
       "      <th></th>\n",
       "      <th></th>\n",
       "      <th></th>\n",
       "      <th></th>\n",
       "      <th></th>\n",
       "      <th></th>\n",
       "    </tr>\n",
       "  </thead>\n",
       "  <tbody>\n",
       "    <tr>\n",
       "      <th>Max Scherzer(Nationals)</th>\n",
       "      <td>0.000000</td>\n",
       "      <td>0.000507</td>\n",
       "      <td>0.001088</td>\n",
       "      <td>0.002673</td>\n",
       "      <td>0.008610</td>\n",
       "      <td>0.012379</td>\n",
       "      <td>0.002240</td>\n",
       "      <td>0.010710</td>\n",
       "      <td>0.018394</td>\n",
       "      <td>0.008670</td>\n",
       "      <td>...</td>\n",
       "      <td>0.240255</td>\n",
       "      <td>0.239051</td>\n",
       "      <td>0.225092</td>\n",
       "      <td>0.226086</td>\n",
       "      <td>0.234882</td>\n",
       "      <td>0.252771</td>\n",
       "      <td>0.225102</td>\n",
       "      <td>0.233575</td>\n",
       "      <td>0.228910</td>\n",
       "      <td>0.233938</td>\n",
       "    </tr>\n",
       "    <tr>\n",
       "      <th>Matthew Boyd(Tigers)</th>\n",
       "      <td>0.000507</td>\n",
       "      <td>0.000000</td>\n",
       "      <td>0.001030</td>\n",
       "      <td>0.001529</td>\n",
       "      <td>0.006803</td>\n",
       "      <td>0.009728</td>\n",
       "      <td>0.000618</td>\n",
       "      <td>0.008281</td>\n",
       "      <td>0.014957</td>\n",
       "      <td>0.006183</td>\n",
       "      <td>...</td>\n",
       "      <td>0.224972</td>\n",
       "      <td>0.223937</td>\n",
       "      <td>0.212468</td>\n",
       "      <td>0.213223</td>\n",
       "      <td>0.220381</td>\n",
       "      <td>0.236022</td>\n",
       "      <td>0.212467</td>\n",
       "      <td>0.219288</td>\n",
       "      <td>0.215451</td>\n",
       "      <td>0.219586</td>\n",
       "    </tr>\n",
       "    <tr>\n",
       "      <th>Lucas Giolito(White Sox)</th>\n",
       "      <td>0.001088</td>\n",
       "      <td>0.001030</td>\n",
       "      <td>0.000000</td>\n",
       "      <td>0.005062</td>\n",
       "      <td>0.013104</td>\n",
       "      <td>0.016949</td>\n",
       "      <td>0.002173</td>\n",
       "      <td>0.015042</td>\n",
       "      <td>0.023550</td>\n",
       "      <td>0.012047</td>\n",
       "      <td>...</td>\n",
       "      <td>0.250699</td>\n",
       "      <td>0.249759</td>\n",
       "      <td>0.239487</td>\n",
       "      <td>0.240136</td>\n",
       "      <td>0.246527</td>\n",
       "      <td>0.260894</td>\n",
       "      <td>0.239474</td>\n",
       "      <td>0.245546</td>\n",
       "      <td>0.242100</td>\n",
       "      <td>0.245806</td>\n",
       "    </tr>\n",
       "    <tr>\n",
       "      <th>Stephen Strasburg(Nationals)</th>\n",
       "      <td>0.002673</td>\n",
       "      <td>0.001529</td>\n",
       "      <td>0.005062</td>\n",
       "      <td>0.000000</td>\n",
       "      <td>0.001885</td>\n",
       "      <td>0.003623</td>\n",
       "      <td>0.001403</td>\n",
       "      <td>0.002750</td>\n",
       "      <td>0.007118</td>\n",
       "      <td>0.001719</td>\n",
       "      <td>...</td>\n",
       "      <td>0.194897</td>\n",
       "      <td>0.193772</td>\n",
       "      <td>0.181150</td>\n",
       "      <td>0.182000</td>\n",
       "      <td>0.189900</td>\n",
       "      <td>0.206813</td>\n",
       "      <td>0.181153</td>\n",
       "      <td>0.188703</td>\n",
       "      <td>0.184481</td>\n",
       "      <td>0.189032</td>\n",
       "    </tr>\n",
       "    <tr>\n",
       "      <th>Hyun-Jin Ryu(Dodgers)</th>\n",
       "      <td>0.008610</td>\n",
       "      <td>0.006803</td>\n",
       "      <td>0.013104</td>\n",
       "      <td>0.001885</td>\n",
       "      <td>0.000000</td>\n",
       "      <td>0.000439</td>\n",
       "      <td>0.005895</td>\n",
       "      <td>0.000202</td>\n",
       "      <td>0.002017</td>\n",
       "      <td>0.000374</td>\n",
       "      <td>...</td>\n",
       "      <td>0.164770</td>\n",
       "      <td>0.163538</td>\n",
       "      <td>0.149561</td>\n",
       "      <td>0.150528</td>\n",
       "      <td>0.159300</td>\n",
       "      <td>0.177671</td>\n",
       "      <td>0.149571</td>\n",
       "      <td>0.157979</td>\n",
       "      <td>0.153309</td>\n",
       "      <td>0.158346</td>\n",
       "    </tr>\n",
       "  </tbody>\n",
       "</table>\n",
       "<p>5 rows × 615 columns</p>\n",
       "</div>"
      ],
      "text/plain": [
       "Player/Team                   Max Scherzer(Nationals)  Matthew Boyd(Tigers)  \\\n",
       "Player/Team                                                                   \n",
       "Max Scherzer(Nationals)                      0.000000              0.000507   \n",
       "Matthew Boyd(Tigers)                         0.000507              0.000000   \n",
       "Lucas Giolito(White Sox)                     0.001088              0.001030   \n",
       "Stephen Strasburg(Nationals)                 0.002673              0.001529   \n",
       "Hyun-Jin Ryu(Dodgers)                        0.008610              0.006803   \n",
       "\n",
       "Player/Team                   Lucas Giolito(White Sox)  \\\n",
       "Player/Team                                              \n",
       "Max Scherzer(Nationals)                       0.001088   \n",
       "Matthew Boyd(Tigers)                          0.001030   \n",
       "Lucas Giolito(White Sox)                      0.000000   \n",
       "Stephen Strasburg(Nationals)                  0.005062   \n",
       "Hyun-Jin Ryu(Dodgers)                         0.013104   \n",
       "\n",
       "Player/Team                   Stephen Strasburg(Nationals)  \\\n",
       "Player/Team                                                  \n",
       "Max Scherzer(Nationals)                           0.002673   \n",
       "Matthew Boyd(Tigers)                              0.001529   \n",
       "Lucas Giolito(White Sox)                          0.005062   \n",
       "Stephen Strasburg(Nationals)                      0.000000   \n",
       "Hyun-Jin Ryu(Dodgers)                             0.001885   \n",
       "\n",
       "Player/Team                   Hyun-Jin Ryu(Dodgers)  Lance Lynn(Rangers)  \\\n",
       "Player/Team                                                                \n",
       "Max Scherzer(Nationals)                    0.008610             0.012379   \n",
       "Matthew Boyd(Tigers)                       0.006803             0.009728   \n",
       "Lucas Giolito(White Sox)                   0.013104             0.016949   \n",
       "Stephen Strasburg(Nationals)               0.001885             0.003623   \n",
       "Hyun-Jin Ryu(Dodgers)                      0.000000             0.000439   \n",
       "\n",
       "Player/Team                   German Marquez(Rockies)  Jake Odorizzi(Twins)  \\\n",
       "Player/Team                                                                   \n",
       "Max Scherzer(Nationals)                      0.002240              0.010710   \n",
       "Matthew Boyd(Tigers)                         0.000618              0.008281   \n",
       "Lucas Giolito(White Sox)                     0.002173              0.015042   \n",
       "Stephen Strasburg(Nationals)                 0.001403              0.002750   \n",
       "Hyun-Jin Ryu(Dodgers)                        0.005895              0.000202   \n",
       "\n",
       "Player/Team                   Mike Minor(Rangers)  Frankie Montas(Athletics)  \\\n",
       "Player/Team                                                                    \n",
       "Max Scherzer(Nationals)                  0.018394                   0.008670   \n",
       "Matthew Boyd(Tigers)                     0.014957                   0.006183   \n",
       "Lucas Giolito(White Sox)                 0.023550                   0.012047   \n",
       "Stephen Strasburg(Nationals)             0.007118                   0.001719   \n",
       "Hyun-Jin Ryu(Dodgers)                    0.002017                   0.000374   \n",
       "\n",
       "Player/Team                   ...  Zac Reininger(Tigers)  \\\n",
       "Player/Team                   ...                          \n",
       "Max Scherzer(Nationals)       ...               0.240255   \n",
       "Matthew Boyd(Tigers)          ...               0.224972   \n",
       "Lucas Giolito(White Sox)      ...               0.250699   \n",
       "Stephen Strasburg(Nationals)  ...               0.194897   \n",
       "Hyun-Jin Ryu(Dodgers)         ...               0.164770   \n",
       "\n",
       "Player/Team                   Matt Koch(Diamondbacks)  Anthony Swarzak(- - -)  \\\n",
       "Player/Team                                                                     \n",
       "Max Scherzer(Nationals)                      0.239051                0.225092   \n",
       "Matthew Boyd(Tigers)                         0.223937                0.212468   \n",
       "Lucas Giolito(White Sox)                     0.249759                0.239487   \n",
       "Stephen Strasburg(Nationals)                 0.193772                0.181150   \n",
       "Hyun-Jin Ryu(Dodgers)                        0.163538                0.149561   \n",
       "\n",
       "Player/Team                   Drew Pomeranz(Giants)  \\\n",
       "Player/Team                                           \n",
       "Max Scherzer(Nationals)                    0.226086   \n",
       "Matthew Boyd(Tigers)                       0.213223   \n",
       "Lucas Giolito(White Sox)                   0.240136   \n",
       "Stephen Strasburg(Nationals)               0.182000   \n",
       "Hyun-Jin Ryu(Dodgers)                      0.150528   \n",
       "\n",
       "Player/Team                   Drew Steckenrider(Marlins)  Alex Cobb(Orioles)  \\\n",
       "Player/Team                                                                    \n",
       "Max Scherzer(Nationals)                         0.234882            0.252771   \n",
       "Matthew Boyd(Tigers)                            0.220381            0.236022   \n",
       "Lucas Giolito(White Sox)                        0.246527            0.260894   \n",
       "Stephen Strasburg(Nationals)                    0.189900            0.206813   \n",
       "Hyun-Jin Ryu(Dodgers)                           0.159300            0.177671   \n",
       "\n",
       "Player/Team                   Derek Holland(Giants)  Dan Straily(Orioles)  \\\n",
       "Player/Team                                                                 \n",
       "Max Scherzer(Nationals)                    0.225102              0.233575   \n",
       "Matthew Boyd(Tigers)                       0.212467              0.219288   \n",
       "Lucas Giolito(White Sox)                   0.239474              0.245546   \n",
       "Stephen Strasburg(Nationals)               0.181153              0.188703   \n",
       "Hyun-Jin Ryu(Dodgers)                      0.149571              0.157979   \n",
       "\n",
       "Player/Team                   Adam Warren(Padres)  Richard Rodriguez(Pirates)  \n",
       "Player/Team                                                                    \n",
       "Max Scherzer(Nationals)                  0.228910                    0.233938  \n",
       "Matthew Boyd(Tigers)                     0.215451                    0.219586  \n",
       "Lucas Giolito(White Sox)                 0.242100                    0.245806  \n",
       "Stephen Strasburg(Nationals)             0.184481                    0.189032  \n",
       "Hyun-Jin Ryu(Dodgers)                    0.153309                    0.158346  \n",
       "\n",
       "[5 rows x 615 columns]"
      ]
     },
     "execution_count": 75,
     "metadata": {},
     "output_type": "execute_result"
    }
   ],
   "source": [
    "recommender_df.head()"
   ]
  },
  {
   "cell_type": "code",
   "execution_count": 76,
   "metadata": {
    "ExecuteTime": {
     "end_time": "2019-06-26T19:23:38.149922Z",
     "start_time": "2019-06-26T19:23:38.146610Z"
    },
    "extensions": {
     "jupyter_dashboards": {
      "version": 1,
      "views": {
       "grid_default": {},
       "report_default": {
        "hidden": true
       }
      }
     }
    }
   },
   "outputs": [],
   "source": [
    "pd.set_option('display.max_colwidth', 999)"
   ]
  },
  {
   "cell_type": "code",
   "execution_count": 77,
   "metadata": {
    "ExecuteTime": {
     "end_time": "2019-06-26T19:23:38.163826Z",
     "start_time": "2019-06-26T19:23:38.152082Z"
    },
    "extensions": {
     "jupyter_dashboards": {
      "version": 1,
      "views": {
       "grid_default": {},
       "report_default": {
        "hidden": false
       }
      }
     }
    }
   },
   "outputs": [
    {
     "data": {
      "text/html": [
       "<div>\n",
       "<style scoped>\n",
       "    .dataframe tbody tr th:only-of-type {\n",
       "        vertical-align: middle;\n",
       "    }\n",
       "\n",
       "    .dataframe tbody tr th {\n",
       "        vertical-align: top;\n",
       "    }\n",
       "\n",
       "    .dataframe thead th {\n",
       "        text-align: right;\n",
       "    }\n",
       "</style>\n",
       "<table border=\"1\" class=\"dataframe\">\n",
       "  <thead>\n",
       "    <tr style=\"text-align: right;\">\n",
       "      <th></th>\n",
       "      <th>Age</th>\n",
       "      <th>FIP</th>\n",
       "      <th>Dollars</th>\n",
       "      <th>F-Strike%</th>\n",
       "    </tr>\n",
       "    <tr>\n",
       "      <th>Player/Team</th>\n",
       "      <th></th>\n",
       "      <th></th>\n",
       "      <th></th>\n",
       "      <th></th>\n",
       "    </tr>\n",
       "  </thead>\n",
       "  <tbody>\n",
       "    <tr>\n",
       "      <th>Max Scherzer(Nationals)</th>\n",
       "      <td>34.0</td>\n",
       "      <td>2.12</td>\n",
       "      <td>27.1</td>\n",
       "      <td>0.703</td>\n",
       "    </tr>\n",
       "    <tr>\n",
       "      <th>Matthew Boyd(Tigers)</th>\n",
       "      <td>28.0</td>\n",
       "      <td>2.75</td>\n",
       "      <td>21.7</td>\n",
       "      <td>0.632</td>\n",
       "    </tr>\n",
       "    <tr>\n",
       "      <th>Lucas Giolito(White Sox)</th>\n",
       "      <td>24.0</td>\n",
       "      <td>2.62</td>\n",
       "      <td>20.4</td>\n",
       "      <td>0.617</td>\n",
       "    </tr>\n",
       "    <tr>\n",
       "      <th>Stephen Strasburg(Nationals)</th>\n",
       "      <td>30.0</td>\n",
       "      <td>2.68</td>\n",
       "      <td>20.7</td>\n",
       "      <td>0.655</td>\n",
       "    </tr>\n",
       "    <tr>\n",
       "      <th>Hyun-Jin Ryu(Dodgers)</th>\n",
       "      <td>32.0</td>\n",
       "      <td>2.52</td>\n",
       "      <td>19.3</td>\n",
       "      <td>0.648</td>\n",
       "    </tr>\n",
       "    <tr>\n",
       "      <th>Lance Lynn(Rangers)</th>\n",
       "      <td>32.0</td>\n",
       "      <td>3.17</td>\n",
       "      <td>18.3</td>\n",
       "      <td>0.591</td>\n",
       "    </tr>\n",
       "    <tr>\n",
       "      <th>German Marquez(Rockies)</th>\n",
       "      <td>24.0</td>\n",
       "      <td>3.27</td>\n",
       "      <td>18.0</td>\n",
       "      <td>0.680</td>\n",
       "    </tr>\n",
       "    <tr>\n",
       "      <th>Jake Odorizzi(Twins)</th>\n",
       "      <td>29.0</td>\n",
       "      <td>2.80</td>\n",
       "      <td>17.0</td>\n",
       "      <td>0.568</td>\n",
       "    </tr>\n",
       "    <tr>\n",
       "      <th>Mike Minor(Rangers)</th>\n",
       "      <td>31.0</td>\n",
       "      <td>3.43</td>\n",
       "      <td>16.4</td>\n",
       "      <td>0.631</td>\n",
       "    </tr>\n",
       "    <tr>\n",
       "      <th>Frankie Montas(Athletics)</th>\n",
       "      <td>26.0</td>\n",
       "      <td>2.87</td>\n",
       "      <td>15.9</td>\n",
       "      <td>0.605</td>\n",
       "    </tr>\n",
       "    <tr>\n",
       "      <th>Justin Verlander(Astros)</th>\n",
       "      <td>36.0</td>\n",
       "      <td>3.66</td>\n",
       "      <td>15.2</td>\n",
       "      <td>0.648</td>\n",
       "    </tr>\n",
       "    <tr>\n",
       "      <th>Charlie Morton(Rays)</th>\n",
       "      <td>35.0</td>\n",
       "      <td>2.87</td>\n",
       "      <td>15.5</td>\n",
       "      <td>0.601</td>\n",
       "    </tr>\n",
       "    <tr>\n",
       "      <th>Kyle Hendricks(Cubs)</th>\n",
       "      <td>29.0</td>\n",
       "      <td>3.24</td>\n",
       "      <td>15.3</td>\n",
       "      <td>0.676</td>\n",
       "    </tr>\n",
       "    <tr>\n",
       "      <th>Gerrit Cole(Astros)</th>\n",
       "      <td>28.0</td>\n",
       "      <td>3.27</td>\n",
       "      <td>15.3</td>\n",
       "      <td>0.629</td>\n",
       "    </tr>\n",
       "    <tr>\n",
       "      <th>Zack Wheeler(Mets)</th>\n",
       "      <td>29.0</td>\n",
       "      <td>3.34</td>\n",
       "      <td>15.3</td>\n",
       "      <td>0.660</td>\n",
       "    </tr>\n",
       "    <tr>\n",
       "      <th>Jose Berrios(Twins)</th>\n",
       "      <td>25.0</td>\n",
       "      <td>3.70</td>\n",
       "      <td>14.4</td>\n",
       "      <td>0.664</td>\n",
       "    </tr>\n",
       "    <tr>\n",
       "      <th>Tyler Glasnow(Rays)</th>\n",
       "      <td>25.0</td>\n",
       "      <td>2.23</td>\n",
       "      <td>14.6</td>\n",
       "      <td>0.623</td>\n",
       "    </tr>\n",
       "    <tr>\n",
       "      <th>Kirby Yates(Padres)</th>\n",
       "      <td>32.0</td>\n",
       "      <td>0.83</td>\n",
       "      <td>14.1</td>\n",
       "      <td>0.610</td>\n",
       "    </tr>\n",
       "    <tr>\n",
       "      <th>Brandon Woodruff(Brewers)</th>\n",
       "      <td>26.0</td>\n",
       "      <td>3.14</td>\n",
       "      <td>13.8</td>\n",
       "      <td>0.590</td>\n",
       "    </tr>\n",
       "    <tr>\n",
       "      <th>Mike Soroka(Braves)</th>\n",
       "      <td>21.0</td>\n",
       "      <td>2.74</td>\n",
       "      <td>13.9</td>\n",
       "      <td>0.634</td>\n",
       "    </tr>\n",
       "  </tbody>\n",
       "</table>\n",
       "</div>"
      ],
      "text/plain": [
       "                               Age   FIP  Dollars  F-Strike%\n",
       "Player/Team                                                 \n",
       "Max Scherzer(Nationals)       34.0  2.12     27.1      0.703\n",
       "Matthew Boyd(Tigers)          28.0  2.75     21.7      0.632\n",
       "Lucas Giolito(White Sox)      24.0  2.62     20.4      0.617\n",
       "Stephen Strasburg(Nationals)  30.0  2.68     20.7      0.655\n",
       "Hyun-Jin Ryu(Dodgers)         32.0  2.52     19.3      0.648\n",
       "Lance Lynn(Rangers)           32.0  3.17     18.3      0.591\n",
       "German Marquez(Rockies)       24.0  3.27     18.0      0.680\n",
       "Jake Odorizzi(Twins)          29.0  2.80     17.0      0.568\n",
       "Mike Minor(Rangers)           31.0  3.43     16.4      0.631\n",
       "Frankie Montas(Athletics)     26.0  2.87     15.9      0.605\n",
       "Justin Verlander(Astros)      36.0  3.66     15.2      0.648\n",
       "Charlie Morton(Rays)          35.0  2.87     15.5      0.601\n",
       "Kyle Hendricks(Cubs)          29.0  3.24     15.3      0.676\n",
       "Gerrit Cole(Astros)           28.0  3.27     15.3      0.629\n",
       "Zack Wheeler(Mets)            29.0  3.34     15.3      0.660\n",
       "Jose Berrios(Twins)           25.0  3.70     14.4      0.664\n",
       "Tyler Glasnow(Rays)           25.0  2.23     14.6      0.623\n",
       "Kirby Yates(Padres)           32.0  0.83     14.1      0.610\n",
       "Brandon Woodruff(Brewers)     26.0  3.14     13.8      0.590\n",
       "Mike Soroka(Braves)           21.0  2.74     13.9      0.634"
      ]
     },
     "execution_count": 77,
     "metadata": {},
     "output_type": "execute_result"
    }
   ],
   "source": [
    "data.head(20)"
   ]
  },
  {
   "cell_type": "code",
   "execution_count": 78,
   "metadata": {
    "ExecuteTime": {
     "end_time": "2019-06-26T19:23:38.174966Z",
     "start_time": "2019-06-26T19:23:38.165326Z"
    },
    "extensions": {
     "jupyter_dashboards": {
      "version": 1,
      "views": {
       "grid_default": {},
       "report_default": {
        "hidden": true
       }
      }
     }
    },
    "scrolled": false
   },
   "outputs": [
    {
     "ename": "NameError",
     "evalue": "name 'player' is not defined",
     "output_type": "error",
     "traceback": [
      "\u001b[0;31m---------------------------------------------------------------------------\u001b[0m",
      "\u001b[0;31mNameError\u001b[0m                                 Traceback (most recent call last)",
      "\u001b[0;32m<ipython-input-78-7d6bbde6974a>\u001b[0m in \u001b[0;36m<module>\u001b[0;34m\u001b[0m\n\u001b[0;32m----> 1\u001b[0;31m \u001b[0mplayer\u001b[0m\u001b[0;34m=\u001b[0m\u001b[0mplayer\u001b[0m\u001b[0;34m\u001b[0m\u001b[0;34m\u001b[0m\u001b[0m\n\u001b[0m\u001b[1;32m      2\u001b[0m \u001b[0mpitchers\u001b[0m\u001b[0;34m[\u001b[0m\u001b[0mpitchers\u001b[0m\u001b[0;34m[\u001b[0m\u001b[0;34m'Player/Team'\u001b[0m\u001b[0;34m]\u001b[0m\u001b[0;34m.\u001b[0m\u001b[0mstr\u001b[0m\u001b[0;34m.\u001b[0m\u001b[0mcontains\u001b[0m\u001b[0;34m(\u001b[0m\u001b[0mplayer\u001b[0m\u001b[0;34m)\u001b[0m\u001b[0;34m]\u001b[0m\u001b[0;34m[\u001b[0m\u001b[0;34m'Player/Team'\u001b[0m\u001b[0;34m]\u001b[0m\u001b[0;34m\u001b[0m\u001b[0;34m\u001b[0m\u001b[0m\n",
      "\u001b[0;31mNameError\u001b[0m: name 'player' is not defined"
     ]
    }
   ],
   "source": [
    "player=player\n",
    "pitchers[pitchers['Player/Team'].str.contains(player)]['Player/Team']"
   ]
  },
  {
   "cell_type": "code",
   "execution_count": null,
   "metadata": {
    "ExecuteTime": {
     "end_time": "2019-06-26T19:23:38.177058Z",
     "start_time": "2019-06-26T19:23:38.027Z"
    },
    "extensions": {
     "jupyter_dashboards": {
      "version": 1,
      "views": {
       "grid_default": {},
       "report_default": {
        "hidden": true
       }
      }
     }
    }
   },
   "outputs": [],
   "source": [
    "recommender_df[player].sort_values()[1:11]"
   ]
  },
  {
   "cell_type": "code",
   "execution_count": null,
   "metadata": {
    "ExecuteTime": {
     "end_time": "2019-06-26T19:23:38.178518Z",
     "start_time": "2019-06-26T19:23:38.028Z"
    },
    "extensions": {
     "jupyter_dashboards": {
      "version": 1,
      "views": {
       "grid_default": {},
       "report_default": {
        "hidden": true
       }
      }
     }
    }
   },
   "outputs": [],
   "source": [
    "from ipywidgets import widgets, Box\n",
    "from IPython.display import display,HTML,Image\n",
    "from IPython.core.display import HTML "
   ]
  },
  {
   "cell_type": "code",
   "execution_count": null,
   "metadata": {
    "ExecuteTime": {
     "end_time": "2019-06-26T19:23:38.179872Z",
     "start_time": "2019-06-26T19:23:38.030Z"
    },
    "extensions": {
     "jupyter_dashboards": {
      "version": 1,
      "views": {
       "grid_default": {},
       "report_default": {
        "hidden": true
       }
      }
     }
    }
   },
   "outputs": [],
   "source": [
    "layout = widgets.Layout(border='1px solid red', width='500px', height='300px')"
   ]
  },
  {
   "cell_type": "code",
   "execution_count": null,
   "metadata": {
    "ExecuteTime": {
     "end_time": "2019-06-26T19:23:38.181114Z",
     "start_time": "2019-06-26T19:23:38.031Z"
    },
    "extensions": {
     "jupyter_dashboards": {
      "version": 1,
      "views": {
       "grid_default": {},
       "report_default": {
        "hidden": true
       }
      }
     }
    }
   },
   "outputs": [],
   "source": [
    "layout.width='800px'\n",
    "layout.height='150px'"
   ]
  },
  {
   "cell_type": "code",
   "execution_count": 79,
   "metadata": {
    "ExecuteTime": {
     "end_time": "2019-06-26T19:23:54.704246Z",
     "start_time": "2019-06-26T19:23:54.699425Z"
    },
    "extensions": {
     "jupyter_dashboards": {
      "version": 1,
      "views": {
       "grid_default": {},
       "report_default": {
        "hidden": false
       }
      }
     }
    }
   },
   "outputs": [
    {
     "data": {
      "image/png": "[encoded data removed]",
      "text/plain": [
       "<IPython.core.display.Image object>"
      ]
     },
     "execution_count": 79,
     "metadata": {
      "image/png": {
       "height": 800,
       "width": 800
      }
     },
     "output_type": "execute_result"
    }
   ],
   "source": [
    "PATH = \"/Users/orah82/Desktop/\"\n",
    "Image(filename = PATH + \"mlb_logo.png\", width=800, height=800)"
   ]
  },
  {
   "cell_type": "code",
   "execution_count": 80,
   "metadata": {
    "ExecuteTime": {
     "end_time": "2019-06-26T19:23:55.816157Z",
     "start_time": "2019-06-26T19:23:55.806485Z"
    },
    "extensions": {
     "jupyter_dashboards": {
      "version": 1,
      "views": {
       "grid_default": {},
       "report_default": {
        "hidden": false
       }
      }
     }
    }
   },
   "outputs": [
    {
     "data": {
      "application/vnd.jupyter.widget-view+json": {
       "model_id": "2daae9eac822438aba8613df951fab84",
       "version_major": 2,
       "version_minor": 0
      },
      "text/plain": [
       "Text(value='', layout=Layout(border='1px solid red', height='150px', width='800px'), placeholder='Enter Player…"
      ]
     },
     "metadata": {},
     "output_type": "display_data"
    }
   ],
   "source": [
    "inputText = widgets.Text(\n",
    "    placeholder= \"Enter Player/Team\",\n",
    "    disabled=False,\n",
    "    layout=layout)\n",
    "\n",
    "def makeUpperCase(sender):    \n",
    "    outputText.value = str(recommender_df[inputText.value].sort_values()[1:11])\n",
    "    \n",
    "inputText.on_submit(makeUpperCase)\n",
    "inputText\n"
   ]
  },
  {
   "cell_type": "code",
   "execution_count": 81,
   "metadata": {
    "ExecuteTime": {
     "end_time": "2019-06-26T19:23:56.737694Z",
     "start_time": "2019-06-26T19:23:56.729290Z"
    },
    "extensions": {
     "jupyter_dashboards": {
      "version": 1,
      "views": {
       "grid_default": {},
       "report_default": {
        "hidden": false
       }
      }
     }
    }
   },
   "outputs": [
    {
     "data": {
      "application/vnd.jupyter.widget-view+json": {
       "model_id": "bf4c03f2fbfa4db5901d1af822146e5a",
       "version_major": 2,
       "version_minor": 0
      },
      "text/plain": [
       "Textarea(value='', layout=Layout(border='1px solid red', height='150px', width='800px'), placeholder='Best Pla…"
      ]
     },
     "metadata": {},
     "output_type": "display_data"
    }
   ],
   "source": [
    "outputText = widgets.Textarea(\n",
    "    placeholder= \"Best Player\",\n",
    "    disabled=False,\n",
    "    layout=layout)\n",
    "outputText"
   ]
  },
  {
   "cell_type": "code",
   "execution_count": 82,
   "metadata": {
    "ExecuteTime": {
     "end_time": "2019-06-26T19:23:57.608820Z",
     "start_time": "2019-06-26T19:23:57.606290Z"
    },
    "extensions": {
     "jupyter_dashboards": {
      "version": 1,
      "views": {
       "grid_default": {},
       "report_default": {
        "hidden": true
       }
      }
     }
    }
   },
   "outputs": [],
   "source": [
    "# from ipywidgets import Layout, Button, Box, FloatText, Textarea, Dropdown, Label, IntSlider\n",
    "\n",
    "# form_item_layout = Layout(\n",
    "#     display='flex',\n",
    "#     flex_flow='row',\n",
    "#     justify_content='space-between'\n",
    "# )\n",
    "\n",
    "# form_items = [\n",
    "#     Box([Label(value='Age of the captain'), IntSlider(min=40, max=60)], layout=form_item_layout),\n",
    "#     Box([Label(value='Egg style'),\n",
    "#          Dropdown(options=['Scrambled', 'Sunny side up', 'Over easy'])], layout=form_item_layout),\n",
    "#     Box([Label(value='Ship size'),\n",
    "#          FloatText()], layout=form_item_layout),\n",
    "#     Box([Label(value='Information'),\n",
    "#          Textarea()], layout=form_item_layout)\n",
    "# ]\n",
    "\n",
    "# form = Box(form_items, layout=Layout(\n",
    "#     display='flex',\n",
    "#     flex_flow='column',\n",
    "#     border='solid 2px',\n",
    "#     align_items='stretch',\n",
    "#     width='50%'\n",
    "# ))\n",
    "# form"
   ]
  },
  {
   "cell_type": "code",
   "execution_count": 83,
   "metadata": {
    "ExecuteTime": {
     "end_time": "2019-06-26T19:23:58.970641Z",
     "start_time": "2019-06-26T19:23:58.966084Z"
    },
    "extensions": {
     "jupyter_dashboards": {
      "version": 1,
      "views": {
       "grid_default": {},
       "report_default": {
        "hidden": true
       }
      }
     }
    }
   },
   "outputs": [
    {
     "data": {
      "text/html": [
       "<script>\n",
       "code_show=true; \n",
       "function code_toggle() {\n",
       " if (code_show){\n",
       " $('div.input').hide();\n",
       " } else {\n",
       " $('div.input').show();\n",
       " }\n",
       " code_show = !code_show\n",
       "} \n",
       "$( document ).ready(code_toggle);\n",
       "</script><a href=\"javascript:code_toggle()\">Toggle</a> code."
      ],
      "text/plain": [
       "<IPython.core.display.HTML object>"
      ]
     },
     "execution_count": 83,
     "metadata": {},
     "output_type": "execute_result"
    }
   ],
   "source": [
    "HTML('''<script>\n",
    "code_show=true; \n",
    "function code_toggle() {\n",
    " if (code_show){\n",
    " $('div.input').hide();\n",
    " } else {\n",
    " $('div.input').show();\n",
    " }\n",
    " code_show = !code_show\n",
    "} \n",
    "$( document ).ready(code_toggle);\n",
    "</script><a href=\"javascript:code_toggle()\">Toggle</a> code.''')"
   ]
  },
  {
   "cell_type": "code",
   "execution_count": null,
   "metadata": {
    "extensions": {
     "jupyter_dashboards": {
      "version": 1,
      "views": {
       "grid_default": {},
       "report_default": {
        "hidden": true
       }
      }
     }
    }
   },
   "outputs": [],
   "source": []
  }
 ],
 "metadata": {
  "extensions": {
   "jupyter_dashboards": {
    "activeView": "report_default",
    "version": 1,
    "views": {
     "grid_default": {
      "cellMargin": 10,
      "defaultCellHeight": 20,
      "maxColumns": 12,
      "name": "grid",
      "type": "grid"
     },
     "report_default": {
      "name": "report",
      "type": "report"
     }
    }
   }
  },
  "kernelspec": {
   "display_name": "Python 3",
   "language": "python",
   "name": "python3"
  },
  "language_info": {
   "codemirror_mode": {
    "name": "ipython",
    "version": 3
   },
   "file_extension": ".py",
   "mimetype": "text/x-python",
   "name": "python",
   "nbconvert_exporter": "python",
   "pygments_lexer": "ipython3",
   "version": "3.7.2"
  }
 },
 "nbformat": 4,
 "nbformat_minor": 2
}
