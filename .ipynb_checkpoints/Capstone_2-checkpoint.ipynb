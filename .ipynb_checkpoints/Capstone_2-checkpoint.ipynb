{
 "cells": [
  {
   "cell_type": "code",
   "execution_count": 1,
   "metadata": {
    "ExecuteTime": {
     "end_time": "2019-06-26T18:53:02.788223Z",
     "start_time": "2019-06-26T18:53:01.694932Z"
    }
   },
   "outputs": [],
   "source": [
    "import pandas as pd\n",
    "import numpy as np\n",
    "import matplotlib.pyplot as plt\n",
    "import seaborn as sns\n",
    "import matplotlib as mbl\n",
    "from scipy import stats\n",
    "%matplotlib inline\n",
    "from scipy.stats import beta"
   ]
  },
  {
   "cell_type": "code",
   "execution_count": 2,
   "metadata": {
    "ExecuteTime": {
     "end_time": "2019-06-26T18:53:02.792681Z",
     "start_time": "2019-06-26T18:53:02.790484Z"
    }
   },
   "outputs": [],
   "source": [
    "# from pybaseball import pitching_stats\n",
    "# data = pitching_stats(2016, 2018)\n",
    "# data.head()"
   ]
  },
  {
   "cell_type": "code",
   "execution_count": 3,
   "metadata": {
    "ExecuteTime": {
     "end_time": "2019-06-26T18:53:02.796200Z",
     "start_time": "2019-06-26T18:53:02.794213Z"
    }
   },
   "outputs": [],
   "source": [
    "# pd.set_option('display.max_columns', 500)\n",
    "# pd.set_option(\"display.max_rows\", 101)"
   ]
  },
  {
   "cell_type": "code",
   "execution_count": 4,
   "metadata": {
    "ExecuteTime": {
     "end_time": "2019-06-26T18:53:02.917043Z",
     "start_time": "2019-06-26T18:53:02.798495Z"
    }
   },
   "outputs": [],
   "source": [
    "data = pd.read_csv(\"/Users/orah82/omar_raheem_capstone/pitching_2016-18.csv\")"
   ]
  },
  {
   "cell_type": "code",
   "execution_count": 5,
   "metadata": {
    "ExecuteTime": {
     "end_time": "2019-06-26T18:53:02.945401Z",
     "start_time": "2019-06-26T18:53:02.919386Z"
    }
   },
   "outputs": [
    {
     "data": {
      "text/html": [
       "<div>\n",
       "<style scoped>\n",
       "    .dataframe tbody tr th:only-of-type {\n",
       "        vertical-align: middle;\n",
       "    }\n",
       "\n",
       "    .dataframe tbody tr th {\n",
       "        vertical-align: top;\n",
       "    }\n",
       "\n",
       "    .dataframe thead th {\n",
       "        text-align: right;\n",
       "    }\n",
       "</style>\n",
       "<table border=\"1\" class=\"dataframe\">\n",
       "  <thead>\n",
       "    <tr style=\"text-align: right;\">\n",
       "      <th></th>\n",
       "      <th>Unnamed: 0</th>\n",
       "      <th>Season</th>\n",
       "      <th>Name</th>\n",
       "      <th>Team</th>\n",
       "      <th>Age</th>\n",
       "      <th>W</th>\n",
       "      <th>L</th>\n",
       "      <th>ERA</th>\n",
       "      <th>WAR</th>\n",
       "      <th>G</th>\n",
       "      <th>...</th>\n",
       "      <th>wSL/C (pi)</th>\n",
       "      <th>wXX/C (pi)</th>\n",
       "      <th>O-Swing% (pi)</th>\n",
       "      <th>Z-Swing% (pi)</th>\n",
       "      <th>Swing% (pi)</th>\n",
       "      <th>O-Contact% (pi)</th>\n",
       "      <th>Z-Contact% (pi)</th>\n",
       "      <th>Contact% (pi)</th>\n",
       "      <th>Zone% (pi)</th>\n",
       "      <th>Pace (pi)</th>\n",
       "    </tr>\n",
       "  </thead>\n",
       "  <tbody>\n",
       "    <tr>\n",
       "      <th>0</th>\n",
       "      <td>118</td>\n",
       "      <td>2018.0</td>\n",
       "      <td>Jacob deGrom</td>\n",
       "      <td>Mets</td>\n",
       "      <td>30.0</td>\n",
       "      <td>10.0</td>\n",
       "      <td>9.0</td>\n",
       "      <td>1.70</td>\n",
       "      <td>9.0</td>\n",
       "      <td>32.0</td>\n",
       "      <td>...</td>\n",
       "      <td>2.25</td>\n",
       "      <td>NaN</td>\n",
       "      <td>0.367</td>\n",
       "      <td>0.661</td>\n",
       "      <td>0.518</td>\n",
       "      <td>0.524</td>\n",
       "      <td>0.804</td>\n",
       "      <td>0.708</td>\n",
       "      <td>0.513</td>\n",
       "      <td>21.9</td>\n",
       "    </tr>\n",
       "    <tr>\n",
       "      <th>1</th>\n",
       "      <td>386</td>\n",
       "      <td>2017.0</td>\n",
       "      <td>Chris Sale</td>\n",
       "      <td>Red Sox</td>\n",
       "      <td>28.0</td>\n",
       "      <td>17.0</td>\n",
       "      <td>8.0</td>\n",
       "      <td>2.90</td>\n",
       "      <td>7.5</td>\n",
       "      <td>32.0</td>\n",
       "      <td>...</td>\n",
       "      <td>0.67</td>\n",
       "      <td>NaN</td>\n",
       "      <td>0.373</td>\n",
       "      <td>0.619</td>\n",
       "      <td>0.499</td>\n",
       "      <td>0.540</td>\n",
       "      <td>0.798</td>\n",
       "      <td>0.704</td>\n",
       "      <td>0.513</td>\n",
       "      <td>20.9</td>\n",
       "    </tr>\n",
       "    <tr>\n",
       "      <th>2</th>\n",
       "      <td>254</td>\n",
       "      <td>2018.0</td>\n",
       "      <td>Max Scherzer</td>\n",
       "      <td>Nationals</td>\n",
       "      <td>33.0</td>\n",
       "      <td>18.0</td>\n",
       "      <td>7.0</td>\n",
       "      <td>2.53</td>\n",
       "      <td>7.4</td>\n",
       "      <td>33.0</td>\n",
       "      <td>...</td>\n",
       "      <td>1.85</td>\n",
       "      <td>NaN</td>\n",
       "      <td>0.355</td>\n",
       "      <td>0.666</td>\n",
       "      <td>0.519</td>\n",
       "      <td>0.513</td>\n",
       "      <td>0.774</td>\n",
       "      <td>0.690</td>\n",
       "      <td>0.528</td>\n",
       "      <td>24.2</td>\n",
       "    </tr>\n",
       "    <tr>\n",
       "      <th>3</th>\n",
       "      <td>190</td>\n",
       "      <td>2017.0</td>\n",
       "      <td>Corey Kluber</td>\n",
       "      <td>Indians</td>\n",
       "      <td>31.0</td>\n",
       "      <td>18.0</td>\n",
       "      <td>4.0</td>\n",
       "      <td>2.25</td>\n",
       "      <td>7.3</td>\n",
       "      <td>29.0</td>\n",
       "      <td>...</td>\n",
       "      <td>4.65</td>\n",
       "      <td>9.31</td>\n",
       "      <td>0.388</td>\n",
       "      <td>0.595</td>\n",
       "      <td>0.489</td>\n",
       "      <td>0.433</td>\n",
       "      <td>0.853</td>\n",
       "      <td>0.681</td>\n",
       "      <td>0.485</td>\n",
       "      <td>23.5</td>\n",
       "    </tr>\n",
       "    <tr>\n",
       "      <th>4</th>\n",
       "      <td>252</td>\n",
       "      <td>2018.0</td>\n",
       "      <td>Justin Verlander</td>\n",
       "      <td>Astros</td>\n",
       "      <td>35.0</td>\n",
       "      <td>16.0</td>\n",
       "      <td>9.0</td>\n",
       "      <td>2.52</td>\n",
       "      <td>6.7</td>\n",
       "      <td>34.0</td>\n",
       "      <td>...</td>\n",
       "      <td>0.48</td>\n",
       "      <td>NaN</td>\n",
       "      <td>0.336</td>\n",
       "      <td>0.656</td>\n",
       "      <td>0.509</td>\n",
       "      <td>0.557</td>\n",
       "      <td>0.785</td>\n",
       "      <td>0.716</td>\n",
       "      <td>0.541</td>\n",
       "      <td>27.0</td>\n",
       "    </tr>\n",
       "  </tbody>\n",
       "</table>\n",
       "<p>5 rows × 300 columns</p>\n",
       "</div>"
      ],
      "text/plain": [
       "   Unnamed: 0  Season              Name       Team   Age     W    L   ERA  \\\n",
       "0         118  2018.0      Jacob deGrom       Mets  30.0  10.0  9.0  1.70   \n",
       "1         386  2017.0        Chris Sale    Red Sox  28.0  17.0  8.0  2.90   \n",
       "2         254  2018.0      Max Scherzer  Nationals  33.0  18.0  7.0  2.53   \n",
       "3         190  2017.0      Corey Kluber    Indians  31.0  18.0  4.0  2.25   \n",
       "4         252  2018.0  Justin Verlander     Astros  35.0  16.0  9.0  2.52   \n",
       "\n",
       "   WAR     G  ...  wSL/C (pi)  wXX/C (pi)  O-Swing% (pi)  Z-Swing% (pi)  \\\n",
       "0  9.0  32.0  ...        2.25         NaN          0.367          0.661   \n",
       "1  7.5  32.0  ...        0.67         NaN          0.373          0.619   \n",
       "2  7.4  33.0  ...        1.85         NaN          0.355          0.666   \n",
       "3  7.3  29.0  ...        4.65        9.31          0.388          0.595   \n",
       "4  6.7  34.0  ...        0.48         NaN          0.336          0.656   \n",
       "\n",
       "   Swing% (pi)  O-Contact% (pi)  Z-Contact% (pi)  Contact% (pi)  Zone% (pi)  \\\n",
       "0        0.518            0.524            0.804          0.708       0.513   \n",
       "1        0.499            0.540            0.798          0.704       0.513   \n",
       "2        0.519            0.513            0.774          0.690       0.528   \n",
       "3        0.489            0.433            0.853          0.681       0.485   \n",
       "4        0.509            0.557            0.785          0.716       0.541   \n",
       "\n",
       "   Pace (pi)  \n",
       "0       21.9  \n",
       "1       20.9  \n",
       "2       24.2  \n",
       "3       23.5  \n",
       "4       27.0  \n",
       "\n",
       "[5 rows x 300 columns]"
      ]
     },
     "execution_count": 5,
     "metadata": {},
     "output_type": "execute_result"
    }
   ],
   "source": [
    "data.head()"
   ]
  },
  {
   "cell_type": "code",
   "execution_count": 6,
   "metadata": {
    "ExecuteTime": {
     "end_time": "2019-06-26T18:53:02.949522Z",
     "start_time": "2019-06-26T18:53:02.947168Z"
    }
   },
   "outputs": [],
   "source": [
    "features = ['Name','ERA', 'FIP', 'xFIP', 'tERA']"
   ]
  },
  {
   "cell_type": "code",
   "execution_count": 7,
   "metadata": {
    "ExecuteTime": {
     "end_time": "2019-06-26T18:53:02.960552Z",
     "start_time": "2019-06-26T18:53:02.950951Z"
    }
   },
   "outputs": [
    {
     "data": {
      "text/html": [
       "<div>\n",
       "<style scoped>\n",
       "    .dataframe tbody tr th:only-of-type {\n",
       "        vertical-align: middle;\n",
       "    }\n",
       "\n",
       "    .dataframe tbody tr th {\n",
       "        vertical-align: top;\n",
       "    }\n",
       "\n",
       "    .dataframe thead th {\n",
       "        text-align: right;\n",
       "    }\n",
       "</style>\n",
       "<table border=\"1\" class=\"dataframe\">\n",
       "  <thead>\n",
       "    <tr style=\"text-align: right;\">\n",
       "      <th></th>\n",
       "      <th>Name</th>\n",
       "      <th>ERA</th>\n",
       "      <th>FIP</th>\n",
       "      <th>xFIP</th>\n",
       "      <th>tERA</th>\n",
       "    </tr>\n",
       "  </thead>\n",
       "  <tbody>\n",
       "    <tr>\n",
       "      <th>0</th>\n",
       "      <td>Jacob deGrom</td>\n",
       "      <td>1.70</td>\n",
       "      <td>1.99</td>\n",
       "      <td>2.60</td>\n",
       "      <td>2.15</td>\n",
       "    </tr>\n",
       "    <tr>\n",
       "      <th>1</th>\n",
       "      <td>Chris Sale</td>\n",
       "      <td>2.90</td>\n",
       "      <td>2.45</td>\n",
       "      <td>2.65</td>\n",
       "      <td>2.72</td>\n",
       "    </tr>\n",
       "    <tr>\n",
       "      <th>2</th>\n",
       "      <td>Max Scherzer</td>\n",
       "      <td>2.53</td>\n",
       "      <td>2.65</td>\n",
       "      <td>3.06</td>\n",
       "      <td>2.55</td>\n",
       "    </tr>\n",
       "    <tr>\n",
       "      <th>3</th>\n",
       "      <td>Corey Kluber</td>\n",
       "      <td>2.25</td>\n",
       "      <td>2.50</td>\n",
       "      <td>2.52</td>\n",
       "      <td>2.93</td>\n",
       "    </tr>\n",
       "    <tr>\n",
       "      <th>4</th>\n",
       "      <td>Justin Verlander</td>\n",
       "      <td>2.52</td>\n",
       "      <td>2.78</td>\n",
       "      <td>3.03</td>\n",
       "      <td>2.61</td>\n",
       "    </tr>\n",
       "  </tbody>\n",
       "</table>\n",
       "</div>"
      ],
      "text/plain": [
       "               Name   ERA   FIP  xFIP  tERA\n",
       "0      Jacob deGrom  1.70  1.99  2.60  2.15\n",
       "1        Chris Sale  2.90  2.45  2.65  2.72\n",
       "2      Max Scherzer  2.53  2.65  3.06  2.55\n",
       "3      Corey Kluber  2.25  2.50  2.52  2.93\n",
       "4  Justin Verlander  2.52  2.78  3.03  2.61"
      ]
     },
     "execution_count": 7,
     "metadata": {},
     "output_type": "execute_result"
    }
   ],
   "source": [
    "data[features].head()"
   ]
  },
  {
   "cell_type": "code",
   "execution_count": 8,
   "metadata": {
    "ExecuteTime": {
     "end_time": "2019-06-26T18:53:02.964633Z",
     "start_time": "2019-06-26T18:53:02.961905Z"
    }
   },
   "outputs": [],
   "source": [
    "name = data.groupby([\"Name\"])"
   ]
  },
  {
   "cell_type": "code",
   "execution_count": 9,
   "metadata": {
    "ExecuteTime": {
     "end_time": "2019-06-26T18:53:02.972230Z",
     "start_time": "2019-06-26T18:53:02.965967Z"
    }
   },
   "outputs": [],
   "source": [
    "Max_2016_2018 = name.get_group('Max Scherzer')"
   ]
  },
  {
   "cell_type": "code",
   "execution_count": 10,
   "metadata": {
    "ExecuteTime": {
     "end_time": "2019-06-26T18:53:03.515118Z",
     "start_time": "2019-06-26T18:53:02.973465Z"
    }
   },
   "outputs": [
    {
     "ename": "NameError",
     "evalue": "name 'CC_2016_2018' is not defined",
     "output_type": "error",
     "traceback": [
      "\u001b[0;31m---------------------------------------------------------------------------\u001b[0m",
      "\u001b[0;31mNameError\u001b[0m                                 Traceback (most recent call last)",
      "\u001b[0;32m<ipython-input-10-934c0ab675ca>\u001b[0m in \u001b[0;36m<module>\u001b[0;34m\u001b[0m\n\u001b[0;32m----> 1\u001b[0;31m \u001b[0mCC_2016_2018\u001b[0m\u001b[0;34m\u001b[0m\u001b[0;34m\u001b[0m\u001b[0m\n\u001b[0m",
      "\u001b[0;31mNameError\u001b[0m: name 'CC_2016_2018' is not defined"
     ]
    }
   ],
   "source": [
    "# CC_2016_2018\n",
    "\n",
    "# CC_2017_2018.columns"
   ]
  },
  {
   "cell_type": "code",
   "execution_count": 11,
   "metadata": {
    "ExecuteTime": {
     "end_time": "2019-06-26T18:53:49.446981Z",
     "start_time": "2019-06-26T18:53:49.443749Z"
    }
   },
   "outputs": [],
   "source": [
    "Max_2016_2018 = name.get_group('Max Scherzer')"
   ]
  },
  {
   "cell_type": "code",
   "execution_count": 12,
   "metadata": {
    "ExecuteTime": {
     "end_time": "2019-06-26T18:53:49.906820Z",
     "start_time": "2019-06-26T18:53:49.903746Z"
    }
   },
   "outputs": [],
   "source": [
    "Justin_2016_2018 = name.get_group('Justin Verlander')"
   ]
  },
  {
   "cell_type": "code",
   "execution_count": 13,
   "metadata": {
    "ExecuteTime": {
     "end_time": "2019-06-26T18:53:50.255374Z",
     "start_time": "2019-06-26T18:53:50.234194Z"
    }
   },
   "outputs": [
    {
     "data": {
      "text/html": [
       "<div>\n",
       "<style scoped>\n",
       "    .dataframe tbody tr th:only-of-type {\n",
       "        vertical-align: middle;\n",
       "    }\n",
       "\n",
       "    .dataframe tbody tr th {\n",
       "        vertical-align: top;\n",
       "    }\n",
       "\n",
       "    .dataframe thead th {\n",
       "        text-align: right;\n",
       "    }\n",
       "</style>\n",
       "<table border=\"1\" class=\"dataframe\">\n",
       "  <thead>\n",
       "    <tr style=\"text-align: right;\">\n",
       "      <th></th>\n",
       "      <th>Unnamed: 0</th>\n",
       "      <th>Season</th>\n",
       "      <th>Name</th>\n",
       "      <th>Team</th>\n",
       "      <th>Age</th>\n",
       "      <th>W</th>\n",
       "      <th>L</th>\n",
       "      <th>ERA</th>\n",
       "      <th>WAR</th>\n",
       "      <th>G</th>\n",
       "      <th>...</th>\n",
       "      <th>wSL/C (pi)</th>\n",
       "      <th>wXX/C (pi)</th>\n",
       "      <th>O-Swing% (pi)</th>\n",
       "      <th>Z-Swing% (pi)</th>\n",
       "      <th>Swing% (pi)</th>\n",
       "      <th>O-Contact% (pi)</th>\n",
       "      <th>Z-Contact% (pi)</th>\n",
       "      <th>Contact% (pi)</th>\n",
       "      <th>Zone% (pi)</th>\n",
       "      <th>Pace (pi)</th>\n",
       "    </tr>\n",
       "  </thead>\n",
       "  <tbody>\n",
       "    <tr>\n",
       "      <th>4</th>\n",
       "      <td>252</td>\n",
       "      <td>2018.0</td>\n",
       "      <td>Justin Verlander</td>\n",
       "      <td>Astros</td>\n",
       "      <td>35.0</td>\n",
       "      <td>16.0</td>\n",
       "      <td>9.0</td>\n",
       "      <td>2.52</td>\n",
       "      <td>6.7</td>\n",
       "      <td>34.0</td>\n",
       "      <td>...</td>\n",
       "      <td>0.48</td>\n",
       "      <td>NaN</td>\n",
       "      <td>0.336</td>\n",
       "      <td>0.656</td>\n",
       "      <td>0.509</td>\n",
       "      <td>0.557</td>\n",
       "      <td>0.785</td>\n",
       "      <td>0.716</td>\n",
       "      <td>0.541</td>\n",
       "      <td>27.0</td>\n",
       "    </tr>\n",
       "    <tr>\n",
       "      <th>21</th>\n",
       "      <td>442</td>\n",
       "      <td>2016.0</td>\n",
       "      <td>Justin Verlander</td>\n",
       "      <td>Tigers</td>\n",
       "      <td>33.0</td>\n",
       "      <td>16.0</td>\n",
       "      <td>9.0</td>\n",
       "      <td>3.04</td>\n",
       "      <td>5.3</td>\n",
       "      <td>34.0</td>\n",
       "      <td>...</td>\n",
       "      <td>2.43</td>\n",
       "      <td>NaN</td>\n",
       "      <td>0.356</td>\n",
       "      <td>0.649</td>\n",
       "      <td>0.500</td>\n",
       "      <td>0.638</td>\n",
       "      <td>0.827</td>\n",
       "      <td>0.758</td>\n",
       "      <td>0.492</td>\n",
       "      <td>26.4</td>\n",
       "    </tr>\n",
       "    <tr>\n",
       "      <th>38</th>\n",
       "      <td>582</td>\n",
       "      <td>2017.0</td>\n",
       "      <td>Justin Verlander</td>\n",
       "      <td>- - -</td>\n",
       "      <td>34.0</td>\n",
       "      <td>15.0</td>\n",
       "      <td>8.0</td>\n",
       "      <td>3.36</td>\n",
       "      <td>4.3</td>\n",
       "      <td>33.0</td>\n",
       "      <td>...</td>\n",
       "      <td>0.00</td>\n",
       "      <td>14.35</td>\n",
       "      <td>0.315</td>\n",
       "      <td>0.656</td>\n",
       "      <td>0.491</td>\n",
       "      <td>0.624</td>\n",
       "      <td>0.855</td>\n",
       "      <td>0.783</td>\n",
       "      <td>0.517</td>\n",
       "      <td>26.9</td>\n",
       "    </tr>\n",
       "  </tbody>\n",
       "</table>\n",
       "<p>3 rows × 300 columns</p>\n",
       "</div>"
      ],
      "text/plain": [
       "    Unnamed: 0  Season              Name    Team   Age     W    L   ERA  WAR  \\\n",
       "4          252  2018.0  Justin Verlander  Astros  35.0  16.0  9.0  2.52  6.7   \n",
       "21         442  2016.0  Justin Verlander  Tigers  33.0  16.0  9.0  3.04  5.3   \n",
       "38         582  2017.0  Justin Verlander   - - -  34.0  15.0  8.0  3.36  4.3   \n",
       "\n",
       "       G  ...  wSL/C (pi)  wXX/C (pi)  O-Swing% (pi)  Z-Swing% (pi)  \\\n",
       "4   34.0  ...        0.48         NaN          0.336          0.656   \n",
       "21  34.0  ...        2.43         NaN          0.356          0.649   \n",
       "38  33.0  ...        0.00       14.35          0.315          0.656   \n",
       "\n",
       "    Swing% (pi)  O-Contact% (pi)  Z-Contact% (pi)  Contact% (pi)  Zone% (pi)  \\\n",
       "4         0.509            0.557            0.785          0.716       0.541   \n",
       "21        0.500            0.638            0.827          0.758       0.492   \n",
       "38        0.491            0.624            0.855          0.783       0.517   \n",
       "\n",
       "    Pace (pi)  \n",
       "4        27.0  \n",
       "21       26.4  \n",
       "38       26.9  \n",
       "\n",
       "[3 rows x 300 columns]"
      ]
     },
     "execution_count": 13,
     "metadata": {},
     "output_type": "execute_result"
    }
   ],
   "source": [
    "Justin_2016_2018.head()"
   ]
  },
  {
   "cell_type": "code",
   "execution_count": 14,
   "metadata": {
    "ExecuteTime": {
     "end_time": "2019-06-26T18:53:50.634577Z",
     "start_time": "2019-06-26T18:53:50.614658Z"
    }
   },
   "outputs": [
    {
     "data": {
      "text/html": [
       "<div>\n",
       "<style scoped>\n",
       "    .dataframe tbody tr th:only-of-type {\n",
       "        vertical-align: middle;\n",
       "    }\n",
       "\n",
       "    .dataframe tbody tr th {\n",
       "        vertical-align: top;\n",
       "    }\n",
       "\n",
       "    .dataframe thead th {\n",
       "        text-align: right;\n",
       "    }\n",
       "</style>\n",
       "<table border=\"1\" class=\"dataframe\">\n",
       "  <thead>\n",
       "    <tr style=\"text-align: right;\">\n",
       "      <th></th>\n",
       "      <th>Unnamed: 0</th>\n",
       "      <th>Season</th>\n",
       "      <th>Name</th>\n",
       "      <th>Team</th>\n",
       "      <th>Age</th>\n",
       "      <th>W</th>\n",
       "      <th>L</th>\n",
       "      <th>ERA</th>\n",
       "      <th>WAR</th>\n",
       "      <th>G</th>\n",
       "      <th>...</th>\n",
       "      <th>wSL/C (pi)</th>\n",
       "      <th>wXX/C (pi)</th>\n",
       "      <th>O-Swing% (pi)</th>\n",
       "      <th>Z-Swing% (pi)</th>\n",
       "      <th>Swing% (pi)</th>\n",
       "      <th>O-Contact% (pi)</th>\n",
       "      <th>Z-Contact% (pi)</th>\n",
       "      <th>Contact% (pi)</th>\n",
       "      <th>Zone% (pi)</th>\n",
       "      <th>Pace (pi)</th>\n",
       "    </tr>\n",
       "  </thead>\n",
       "  <tbody>\n",
       "    <tr>\n",
       "      <th>2</th>\n",
       "      <td>254</td>\n",
       "      <td>2018.0</td>\n",
       "      <td>Max Scherzer</td>\n",
       "      <td>Nationals</td>\n",
       "      <td>33.0</td>\n",
       "      <td>18.0</td>\n",
       "      <td>7.0</td>\n",
       "      <td>2.53</td>\n",
       "      <td>7.4</td>\n",
       "      <td>33.0</td>\n",
       "      <td>...</td>\n",
       "      <td>1.85</td>\n",
       "      <td>NaN</td>\n",
       "      <td>0.355</td>\n",
       "      <td>0.666</td>\n",
       "      <td>0.519</td>\n",
       "      <td>0.513</td>\n",
       "      <td>0.774</td>\n",
       "      <td>0.690</td>\n",
       "      <td>0.528</td>\n",
       "      <td>24.2</td>\n",
       "    </tr>\n",
       "    <tr>\n",
       "      <th>6</th>\n",
       "      <td>246</td>\n",
       "      <td>2017.0</td>\n",
       "      <td>Max Scherzer</td>\n",
       "      <td>Nationals</td>\n",
       "      <td>32.0</td>\n",
       "      <td>16.0</td>\n",
       "      <td>6.0</td>\n",
       "      <td>2.51</td>\n",
       "      <td>6.3</td>\n",
       "      <td>31.0</td>\n",
       "      <td>...</td>\n",
       "      <td>3.46</td>\n",
       "      <td>4.27</td>\n",
       "      <td>0.366</td>\n",
       "      <td>0.653</td>\n",
       "      <td>0.512</td>\n",
       "      <td>0.496</td>\n",
       "      <td>0.807</td>\n",
       "      <td>0.697</td>\n",
       "      <td>0.506</td>\n",
       "      <td>25.1</td>\n",
       "    </tr>\n",
       "    <tr>\n",
       "      <th>15</th>\n",
       "      <td>405</td>\n",
       "      <td>2016.0</td>\n",
       "      <td>Max Scherzer</td>\n",
       "      <td>Nationals</td>\n",
       "      <td>31.0</td>\n",
       "      <td>20.0</td>\n",
       "      <td>7.0</td>\n",
       "      <td>2.96</td>\n",
       "      <td>5.6</td>\n",
       "      <td>34.0</td>\n",
       "      <td>...</td>\n",
       "      <td>2.70</td>\n",
       "      <td>NaN</td>\n",
       "      <td>0.349</td>\n",
       "      <td>0.662</td>\n",
       "      <td>0.514</td>\n",
       "      <td>0.531</td>\n",
       "      <td>0.782</td>\n",
       "      <td>0.701</td>\n",
       "      <td>0.527</td>\n",
       "      <td>22.9</td>\n",
       "    </tr>\n",
       "  </tbody>\n",
       "</table>\n",
       "<p>3 rows × 300 columns</p>\n",
       "</div>"
      ],
      "text/plain": [
       "    Unnamed: 0  Season          Name       Team   Age     W    L   ERA  WAR  \\\n",
       "2          254  2018.0  Max Scherzer  Nationals  33.0  18.0  7.0  2.53  7.4   \n",
       "6          246  2017.0  Max Scherzer  Nationals  32.0  16.0  6.0  2.51  6.3   \n",
       "15         405  2016.0  Max Scherzer  Nationals  31.0  20.0  7.0  2.96  5.6   \n",
       "\n",
       "       G  ...  wSL/C (pi)  wXX/C (pi)  O-Swing% (pi)  Z-Swing% (pi)  \\\n",
       "2   33.0  ...        1.85         NaN          0.355          0.666   \n",
       "6   31.0  ...        3.46        4.27          0.366          0.653   \n",
       "15  34.0  ...        2.70         NaN          0.349          0.662   \n",
       "\n",
       "    Swing% (pi)  O-Contact% (pi)  Z-Contact% (pi)  Contact% (pi)  Zone% (pi)  \\\n",
       "2         0.519            0.513            0.774          0.690       0.528   \n",
       "6         0.512            0.496            0.807          0.697       0.506   \n",
       "15        0.514            0.531            0.782          0.701       0.527   \n",
       "\n",
       "    Pace (pi)  \n",
       "2        24.2  \n",
       "6        25.1  \n",
       "15       22.9  \n",
       "\n",
       "[3 rows x 300 columns]"
      ]
     },
     "execution_count": 14,
     "metadata": {},
     "output_type": "execute_result"
    }
   ],
   "source": [
    "Max_2016_2018"
   ]
  },
  {
   "cell_type": "code",
   "execution_count": 17,
   "metadata": {
    "ExecuteTime": {
     "end_time": "2019-06-26T18:54:03.601378Z",
     "start_time": "2019-06-26T18:54:03.597595Z"
    }
   },
   "outputs": [
    {
     "data": {
      "text/plain": [
       "4.223333333333333"
      ]
     },
     "execution_count": 17,
     "metadata": {},
     "output_type": "execute_result"
    }
   ],
   "source": [
    "(4.14 + 4.35 + 4.18)/3"
   ]
  },
  {
   "cell_type": "code",
   "execution_count": 18,
   "metadata": {
    "ExecuteTime": {
     "end_time": "2019-06-26T18:54:04.045693Z",
     "start_time": "2019-06-26T18:54:04.041713Z"
    }
   },
   "outputs": [
    {
     "data": {
      "text/plain": [
       "3.8324999999999996"
      ]
     },
     "execution_count": 18,
     "metadata": {},
     "output_type": "execute_result"
    }
   ],
   "source": [
    "4.22 + (20 + 55 - 137)/160"
   ]
  },
  {
   "cell_type": "code",
   "execution_count": 19,
   "metadata": {
    "ExecuteTime": {
     "end_time": "2019-06-26T18:54:04.350230Z",
     "start_time": "2019-06-26T18:54:04.347427Z"
    }
   },
   "outputs": [],
   "source": [
    "def predict_ERA(C,a,b,k,i):\n",
    "    era = C + (a + b - k)/i\n",
    "    return era"
   ]
  },
  {
   "cell_type": "code",
   "execution_count": 20,
   "metadata": {
    "ExecuteTime": {
     "end_time": "2019-06-26T18:54:04.567548Z",
     "start_time": "2019-06-26T18:54:04.563554Z"
    }
   },
   "outputs": [
    {
     "data": {
      "text/plain": [
       "3.8324999999999996"
      ]
     },
     "execution_count": 20,
     "metadata": {},
     "output_type": "execute_result"
    }
   ],
   "source": [
    "predict_ERA(C= 4.22, a = 20, b = 55, k= 137, i= 160)"
   ]
  },
  {
   "cell_type": "code",
   "execution_count": 21,
   "metadata": {
    "ExecuteTime": {
     "end_time": "2019-06-26T18:54:04.834640Z",
     "start_time": "2019-06-26T18:54:04.814612Z"
    }
   },
   "outputs": [
    {
     "data": {
      "text/html": [
       "<div>\n",
       "<style scoped>\n",
       "    .dataframe tbody tr th:only-of-type {\n",
       "        vertical-align: middle;\n",
       "    }\n",
       "\n",
       "    .dataframe tbody tr th {\n",
       "        vertical-align: top;\n",
       "    }\n",
       "\n",
       "    .dataframe thead th {\n",
       "        text-align: right;\n",
       "    }\n",
       "</style>\n",
       "<table border=\"1\" class=\"dataframe\">\n",
       "  <thead>\n",
       "    <tr style=\"text-align: right;\">\n",
       "      <th></th>\n",
       "      <th>Unnamed: 0</th>\n",
       "      <th>Season</th>\n",
       "      <th>Name</th>\n",
       "      <th>Team</th>\n",
       "      <th>Age</th>\n",
       "      <th>W</th>\n",
       "      <th>L</th>\n",
       "      <th>ERA</th>\n",
       "      <th>WAR</th>\n",
       "      <th>G</th>\n",
       "      <th>...</th>\n",
       "      <th>wSL/C (pi)</th>\n",
       "      <th>wXX/C (pi)</th>\n",
       "      <th>O-Swing% (pi)</th>\n",
       "      <th>Z-Swing% (pi)</th>\n",
       "      <th>Swing% (pi)</th>\n",
       "      <th>O-Contact% (pi)</th>\n",
       "      <th>Z-Contact% (pi)</th>\n",
       "      <th>Contact% (pi)</th>\n",
       "      <th>Zone% (pi)</th>\n",
       "      <th>Pace (pi)</th>\n",
       "    </tr>\n",
       "  </thead>\n",
       "  <tbody>\n",
       "    <tr>\n",
       "      <th>2</th>\n",
       "      <td>254</td>\n",
       "      <td>2018.0</td>\n",
       "      <td>Max Scherzer</td>\n",
       "      <td>Nationals</td>\n",
       "      <td>33.0</td>\n",
       "      <td>18.0</td>\n",
       "      <td>7.0</td>\n",
       "      <td>2.53</td>\n",
       "      <td>7.4</td>\n",
       "      <td>33.0</td>\n",
       "      <td>...</td>\n",
       "      <td>1.85</td>\n",
       "      <td>NaN</td>\n",
       "      <td>0.355</td>\n",
       "      <td>0.666</td>\n",
       "      <td>0.519</td>\n",
       "      <td>0.513</td>\n",
       "      <td>0.774</td>\n",
       "      <td>0.690</td>\n",
       "      <td>0.528</td>\n",
       "      <td>24.2</td>\n",
       "    </tr>\n",
       "    <tr>\n",
       "      <th>6</th>\n",
       "      <td>246</td>\n",
       "      <td>2017.0</td>\n",
       "      <td>Max Scherzer</td>\n",
       "      <td>Nationals</td>\n",
       "      <td>32.0</td>\n",
       "      <td>16.0</td>\n",
       "      <td>6.0</td>\n",
       "      <td>2.51</td>\n",
       "      <td>6.3</td>\n",
       "      <td>31.0</td>\n",
       "      <td>...</td>\n",
       "      <td>3.46</td>\n",
       "      <td>4.27</td>\n",
       "      <td>0.366</td>\n",
       "      <td>0.653</td>\n",
       "      <td>0.512</td>\n",
       "      <td>0.496</td>\n",
       "      <td>0.807</td>\n",
       "      <td>0.697</td>\n",
       "      <td>0.506</td>\n",
       "      <td>25.1</td>\n",
       "    </tr>\n",
       "    <tr>\n",
       "      <th>15</th>\n",
       "      <td>405</td>\n",
       "      <td>2016.0</td>\n",
       "      <td>Max Scherzer</td>\n",
       "      <td>Nationals</td>\n",
       "      <td>31.0</td>\n",
       "      <td>20.0</td>\n",
       "      <td>7.0</td>\n",
       "      <td>2.96</td>\n",
       "      <td>5.6</td>\n",
       "      <td>34.0</td>\n",
       "      <td>...</td>\n",
       "      <td>2.70</td>\n",
       "      <td>NaN</td>\n",
       "      <td>0.349</td>\n",
       "      <td>0.662</td>\n",
       "      <td>0.514</td>\n",
       "      <td>0.531</td>\n",
       "      <td>0.782</td>\n",
       "      <td>0.701</td>\n",
       "      <td>0.527</td>\n",
       "      <td>22.9</td>\n",
       "    </tr>\n",
       "  </tbody>\n",
       "</table>\n",
       "<p>3 rows × 300 columns</p>\n",
       "</div>"
      ],
      "text/plain": [
       "    Unnamed: 0  Season          Name       Team   Age     W    L   ERA  WAR  \\\n",
       "2          254  2018.0  Max Scherzer  Nationals  33.0  18.0  7.0  2.53  7.4   \n",
       "6          246  2017.0  Max Scherzer  Nationals  32.0  16.0  6.0  2.51  6.3   \n",
       "15         405  2016.0  Max Scherzer  Nationals  31.0  20.0  7.0  2.96  5.6   \n",
       "\n",
       "       G  ...  wSL/C (pi)  wXX/C (pi)  O-Swing% (pi)  Z-Swing% (pi)  \\\n",
       "2   33.0  ...        1.85         NaN          0.355          0.666   \n",
       "6   31.0  ...        3.46        4.27          0.366          0.653   \n",
       "15  34.0  ...        2.70         NaN          0.349          0.662   \n",
       "\n",
       "    Swing% (pi)  O-Contact% (pi)  Z-Contact% (pi)  Contact% (pi)  Zone% (pi)  \\\n",
       "2         0.519            0.513            0.774          0.690       0.528   \n",
       "6         0.512            0.496            0.807          0.697       0.506   \n",
       "15        0.514            0.531            0.782          0.701       0.527   \n",
       "\n",
       "    Pace (pi)  \n",
       "2        24.2  \n",
       "6        25.1  \n",
       "15       22.9  \n",
       "\n",
       "[3 rows x 300 columns]"
      ]
     },
     "execution_count": 21,
     "metadata": {},
     "output_type": "execute_result"
    }
   ],
   "source": [
    "Max_2016_2018"
   ]
  },
  {
   "cell_type": "code",
   "execution_count": 22,
   "metadata": {
    "ExecuteTime": {
     "end_time": "2019-06-26T18:54:04.986626Z",
     "start_time": "2019-06-26T18:54:04.982458Z"
    }
   },
   "outputs": [
    {
     "data": {
      "text/plain": [
       "3.2713651087459508"
      ]
     },
     "execution_count": 22,
     "metadata": {},
     "output_type": "execute_result"
    }
   ],
   "source": [
    "predict_ERA(C=4.22, a=25, b=54,k=284, i=216.1)"
   ]
  },
  {
   "cell_type": "code",
   "execution_count": 23,
   "metadata": {
    "ExecuteTime": {
     "end_time": "2019-06-26T18:54:05.299848Z",
     "start_time": "2019-06-26T18:54:05.279734Z"
    }
   },
   "outputs": [
    {
     "data": {
      "text/html": [
       "<div>\n",
       "<style scoped>\n",
       "    .dataframe tbody tr th:only-of-type {\n",
       "        vertical-align: middle;\n",
       "    }\n",
       "\n",
       "    .dataframe tbody tr th {\n",
       "        vertical-align: top;\n",
       "    }\n",
       "\n",
       "    .dataframe thead th {\n",
       "        text-align: right;\n",
       "    }\n",
       "</style>\n",
       "<table border=\"1\" class=\"dataframe\">\n",
       "  <thead>\n",
       "    <tr style=\"text-align: right;\">\n",
       "      <th></th>\n",
       "      <th>Unnamed: 0</th>\n",
       "      <th>Season</th>\n",
       "      <th>Name</th>\n",
       "      <th>Team</th>\n",
       "      <th>Age</th>\n",
       "      <th>W</th>\n",
       "      <th>L</th>\n",
       "      <th>ERA</th>\n",
       "      <th>WAR</th>\n",
       "      <th>G</th>\n",
       "      <th>...</th>\n",
       "      <th>wSL/C (pi)</th>\n",
       "      <th>wXX/C (pi)</th>\n",
       "      <th>O-Swing% (pi)</th>\n",
       "      <th>Z-Swing% (pi)</th>\n",
       "      <th>Swing% (pi)</th>\n",
       "      <th>O-Contact% (pi)</th>\n",
       "      <th>Z-Contact% (pi)</th>\n",
       "      <th>Contact% (pi)</th>\n",
       "      <th>Zone% (pi)</th>\n",
       "      <th>Pace (pi)</th>\n",
       "    </tr>\n",
       "  </thead>\n",
       "  <tbody>\n",
       "    <tr>\n",
       "      <th>4</th>\n",
       "      <td>252</td>\n",
       "      <td>2018.0</td>\n",
       "      <td>Justin Verlander</td>\n",
       "      <td>Astros</td>\n",
       "      <td>35.0</td>\n",
       "      <td>16.0</td>\n",
       "      <td>9.0</td>\n",
       "      <td>2.52</td>\n",
       "      <td>6.7</td>\n",
       "      <td>34.0</td>\n",
       "      <td>...</td>\n",
       "      <td>0.48</td>\n",
       "      <td>NaN</td>\n",
       "      <td>0.336</td>\n",
       "      <td>0.656</td>\n",
       "      <td>0.509</td>\n",
       "      <td>0.557</td>\n",
       "      <td>0.785</td>\n",
       "      <td>0.716</td>\n",
       "      <td>0.541</td>\n",
       "      <td>27.0</td>\n",
       "    </tr>\n",
       "    <tr>\n",
       "      <th>21</th>\n",
       "      <td>442</td>\n",
       "      <td>2016.0</td>\n",
       "      <td>Justin Verlander</td>\n",
       "      <td>Tigers</td>\n",
       "      <td>33.0</td>\n",
       "      <td>16.0</td>\n",
       "      <td>9.0</td>\n",
       "      <td>3.04</td>\n",
       "      <td>5.3</td>\n",
       "      <td>34.0</td>\n",
       "      <td>...</td>\n",
       "      <td>2.43</td>\n",
       "      <td>NaN</td>\n",
       "      <td>0.356</td>\n",
       "      <td>0.649</td>\n",
       "      <td>0.500</td>\n",
       "      <td>0.638</td>\n",
       "      <td>0.827</td>\n",
       "      <td>0.758</td>\n",
       "      <td>0.492</td>\n",
       "      <td>26.4</td>\n",
       "    </tr>\n",
       "    <tr>\n",
       "      <th>38</th>\n",
       "      <td>582</td>\n",
       "      <td>2017.0</td>\n",
       "      <td>Justin Verlander</td>\n",
       "      <td>- - -</td>\n",
       "      <td>34.0</td>\n",
       "      <td>15.0</td>\n",
       "      <td>8.0</td>\n",
       "      <td>3.36</td>\n",
       "      <td>4.3</td>\n",
       "      <td>33.0</td>\n",
       "      <td>...</td>\n",
       "      <td>0.00</td>\n",
       "      <td>14.35</td>\n",
       "      <td>0.315</td>\n",
       "      <td>0.656</td>\n",
       "      <td>0.491</td>\n",
       "      <td>0.624</td>\n",
       "      <td>0.855</td>\n",
       "      <td>0.783</td>\n",
       "      <td>0.517</td>\n",
       "      <td>26.9</td>\n",
       "    </tr>\n",
       "  </tbody>\n",
       "</table>\n",
       "<p>3 rows × 300 columns</p>\n",
       "</div>"
      ],
      "text/plain": [
       "    Unnamed: 0  Season              Name    Team   Age     W    L   ERA  WAR  \\\n",
       "4          252  2018.0  Justin Verlander  Astros  35.0  16.0  9.0  2.52  6.7   \n",
       "21         442  2016.0  Justin Verlander  Tigers  33.0  16.0  9.0  3.04  5.3   \n",
       "38         582  2017.0  Justin Verlander   - - -  34.0  15.0  8.0  3.36  4.3   \n",
       "\n",
       "       G  ...  wSL/C (pi)  wXX/C (pi)  O-Swing% (pi)  Z-Swing% (pi)  \\\n",
       "4   34.0  ...        0.48         NaN          0.336          0.656   \n",
       "21  34.0  ...        2.43         NaN          0.356          0.649   \n",
       "38  33.0  ...        0.00       14.35          0.315          0.656   \n",
       "\n",
       "    Swing% (pi)  O-Contact% (pi)  Z-Contact% (pi)  Contact% (pi)  Zone% (pi)  \\\n",
       "4         0.509            0.557            0.785          0.716       0.541   \n",
       "21        0.500            0.638            0.827          0.758       0.492   \n",
       "38        0.491            0.624            0.855          0.783       0.517   \n",
       "\n",
       "    Pace (pi)  \n",
       "4        27.0  \n",
       "21       26.4  \n",
       "38       26.9  \n",
       "\n",
       "[3 rows x 300 columns]"
      ]
     },
     "execution_count": 23,
     "metadata": {},
     "output_type": "execute_result"
    }
   ],
   "source": [
    "Justin_2016_2018"
   ]
  },
  {
   "cell_type": "code",
   "execution_count": 24,
   "metadata": {
    "ExecuteTime": {
     "end_time": "2019-06-26T18:54:06.256315Z",
     "start_time": "2019-06-26T18:54:06.252159Z"
    }
   },
   "outputs": [
    {
     "data": {
      "text/plain": [
       "3.4289012517385253"
      ]
     },
     "execution_count": 24,
     "metadata": {},
     "output_type": "execute_result"
    }
   ],
   "source": [
    "predict_ERA(C=4.22,a=28.33, b=55.33,k=254.3, i=215.7)"
   ]
  },
  {
   "cell_type": "code",
   "execution_count": 25,
   "metadata": {
    "ExecuteTime": {
     "end_time": "2019-06-26T18:54:06.566080Z",
     "start_time": "2019-06-26T18:54:06.563404Z"
    }
   },
   "outputs": [],
   "source": [
    "features = ['Name','ER', 'IP','ERA']"
   ]
  },
  {
   "cell_type": "code",
   "execution_count": 26,
   "metadata": {
    "ExecuteTime": {
     "end_time": "2019-06-26T18:54:07.063380Z",
     "start_time": "2019-06-26T18:54:06.895623Z"
    }
   },
   "outputs": [
    {
     "data": {
      "text/plain": [
       "<matplotlib.axes._subplots.AxesSubplot at 0x1a22f88da0>"
      ]
     },
     "execution_count": 26,
     "metadata": {},
     "output_type": "execute_result"
    },
    {
     "data": {
      "image/png": "[encoded data removed]",
      "text/plain": [
       "<Figure size 432x288 with 1 Axes>"
      ]
     },
     "metadata": {
      "needs_background": "light"
     },
     "output_type": "display_data"
    }
   ],
   "source": [
    "sns.scatterplot(x='HR', y='R',data=Max_2016_2018)"
   ]
  },
  {
   "cell_type": "code",
   "execution_count": 27,
   "metadata": {
    "ExecuteTime": {
     "end_time": "2019-06-26T18:54:07.198914Z",
     "start_time": "2019-06-26T18:54:07.195490Z"
    }
   },
   "outputs": [],
   "source": [
    "prior = beta(a=28.33, b=55.3)"
   ]
  },
  {
   "cell_type": "code",
   "execution_count": 28,
   "metadata": {
    "ExecuteTime": {
     "end_time": "2019-06-26T18:54:07.980464Z",
     "start_time": "2019-06-26T18:54:07.978064Z"
    }
   },
   "outputs": [],
   "source": [
    "xvals = np.linspace(0,1, 216 )"
   ]
  },
  {
   "cell_type": "code",
   "execution_count": 29,
   "metadata": {
    "ExecuteTime": {
     "end_time": "2019-06-26T18:54:08.207145Z",
     "start_time": "2019-06-26T18:54:08.203974Z"
    }
   },
   "outputs": [],
   "source": [
    "yvals = prior.pdf(xvals)"
   ]
  },
  {
   "cell_type": "code",
   "execution_count": 30,
   "metadata": {
    "ExecuteTime": {
     "end_time": "2019-06-26T18:54:08.694839Z",
     "start_time": "2019-06-26T18:54:08.514780Z"
    }
   },
   "outputs": [
    {
     "data": {
      "image/png": "[encoded data removed]",
      "text/plain": [
       "<Figure size 432x288 with 1 Axes>"
      ]
     },
     "metadata": {
      "needs_background": "light"
     },
     "output_type": "display_data"
    }
   ],
   "source": [
    "plt.plot(xvals, yvals)\n",
    "plt.xlabel('ERA')\n",
    "plt.ylabel('Probability Density')\n",
    "plt.title('Prior Distribution of ERA for Justin Verlander');"
   ]
  },
  {
   "cell_type": "code",
   "execution_count": 31,
   "metadata": {
    "ExecuteTime": {
     "end_time": "2019-06-26T18:54:08.743935Z",
     "start_time": "2019-06-26T18:54:08.739964Z"
    }
   },
   "outputs": [
    {
     "data": {
      "text/plain": [
       "3.2713651087459508"
      ]
     },
     "execution_count": 31,
     "metadata": {},
     "output_type": "execute_result"
    }
   ],
   "source": [
    "predict_ERA(C=4.22, a=25, b=54,k=284, i=216.1)"
   ]
  },
  {
   "cell_type": "code",
   "execution_count": 32,
   "metadata": {
    "ExecuteTime": {
     "end_time": "2019-06-26T18:54:08.913107Z",
     "start_time": "2019-06-26T18:54:08.909535Z"
    }
   },
   "outputs": [],
   "source": [
    "prior_Max = beta(a=25, b=54)"
   ]
  },
  {
   "cell_type": "code",
   "execution_count": 33,
   "metadata": {
    "ExecuteTime": {
     "end_time": "2019-06-26T18:54:09.237215Z",
     "start_time": "2019-06-26T18:54:09.234446Z"
    }
   },
   "outputs": [],
   "source": [
    "xvals_Max = np.linspace(0,1, 216)"
   ]
  },
  {
   "cell_type": "code",
   "execution_count": 34,
   "metadata": {
    "ExecuteTime": {
     "end_time": "2019-06-26T18:54:09.465384Z",
     "start_time": "2019-06-26T18:54:09.462233Z"
    }
   },
   "outputs": [],
   "source": [
    "yvals_Max = prior_Max.pdf(xvals_Max)"
   ]
  },
  {
   "cell_type": "code",
   "execution_count": 35,
   "metadata": {
    "ExecuteTime": {
     "end_time": "2019-06-26T18:54:09.909963Z",
     "start_time": "2019-06-26T18:54:09.739761Z"
    }
   },
   "outputs": [
    {
     "data": {
      "image/png": "[encoded data removed]",
      "text/plain": [
       "<Figure size 432x288 with 1 Axes>"
      ]
     },
     "metadata": {
      "needs_background": "light"
     },
     "output_type": "display_data"
    }
   ],
   "source": [
    "plt.plot(xvals_Max, yvals_Max)\n",
    "plt.xlabel('ERA')\n",
    "plt.ylabel('Probability Density')\n",
    "plt.title('Prior Distribution of ERA for Max Scherzer');"
   ]
  },
  {
   "cell_type": "code",
   "execution_count": 36,
   "metadata": {
    "ExecuteTime": {
     "end_time": "2019-06-26T18:54:09.915111Z",
     "start_time": "2019-06-26T18:54:09.911674Z"
    }
   },
   "outputs": [
    {
     "data": {
      "text/plain": [
       "3.8324999999999996"
      ]
     },
     "execution_count": 36,
     "metadata": {},
     "output_type": "execute_result"
    }
   ],
   "source": [
    "predict_ERA(C= 4.22, a = 20, b = 55, k= 137, i= 160)"
   ]
  },
  {
   "cell_type": "code",
   "execution_count": 37,
   "metadata": {
    "ExecuteTime": {
     "end_time": "2019-06-26T18:54:10.144589Z",
     "start_time": "2019-06-26T18:54:10.141526Z"
    }
   },
   "outputs": [],
   "source": [
    "prior_CC = beta(a=20, b=55)"
   ]
  },
  {
   "cell_type": "code",
   "execution_count": 38,
   "metadata": {
    "ExecuteTime": {
     "end_time": "2019-06-26T18:54:10.400891Z",
     "start_time": "2019-06-26T18:54:10.398525Z"
    }
   },
   "outputs": [],
   "source": [
    "xvals_CC = np.linspace(0,1, 216)"
   ]
  },
  {
   "cell_type": "code",
   "execution_count": 39,
   "metadata": {
    "ExecuteTime": {
     "end_time": "2019-06-26T18:54:10.633246Z",
     "start_time": "2019-06-26T18:54:10.630518Z"
    }
   },
   "outputs": [],
   "source": [
    "yvals_CC = prior_CC.pdf(xvals_CC)"
   ]
  },
  {
   "cell_type": "code",
   "execution_count": 40,
   "metadata": {
    "ExecuteTime": {
     "end_time": "2019-06-26T18:54:11.115343Z",
     "start_time": "2019-06-26T18:54:10.947195Z"
    }
   },
   "outputs": [
    {
     "data": {
      "image/png": "[encoded data removed]",
      "text/plain": [
       "<Figure size 432x288 with 1 Axes>"
      ]
     },
     "metadata": {
      "needs_background": "light"
     },
     "output_type": "display_data"
    }
   ],
   "source": [
    "plt.plot(xvals_CC, yvals_CC)\n",
    "plt.xlabel('ERA')\n",
    "plt.ylabel('Probability Density')\n",
    "plt.title('Prior Distribution of ERA for CC Sabathia');"
   ]
  },
  {
   "cell_type": "code",
   "execution_count": 41,
   "metadata": {
    "ExecuteTime": {
     "end_time": "2019-06-26T18:54:11.120533Z",
     "start_time": "2019-06-26T18:54:11.116979Z"
    }
   },
   "outputs": [
    {
     "data": {
      "text/plain": [
       "4.868811312417121"
      ]
     },
     "execution_count": 41,
     "metadata": {},
     "output_type": "execute_result"
    }
   ],
   "source": [
    "data[\"FIP\"].mean()"
   ]
  },
  {
   "cell_type": "code",
   "execution_count": 42,
   "metadata": {
    "ExecuteTime": {
     "end_time": "2019-06-26T18:54:11.314502Z",
     "start_time": "2019-06-26T18:54:11.310738Z"
    }
   },
   "outputs": [],
   "source": [
    "def get_map(row):    \n",
    "    #ER\n",
    "    alpha_prior = 30\n",
    "    #IP\n",
    "    beta_prior = 60\n",
    "    alpha_posterior = row['ER'] + alpha_prior\n",
    "    beta_posterior =  row[\"IP\"] - row['ER'] + beta_prior\n",
    "    return (9 * alpha_posterior - 1) / (alpha_posterior + beta_posterior -2)"
   ]
  },
  {
   "cell_type": "code",
   "execution_count": 43,
   "metadata": {
    "ExecuteTime": {
     "end_time": "2019-06-26T18:54:11.570163Z",
     "start_time": "2019-06-26T18:54:11.566496Z"
    }
   },
   "outputs": [],
   "source": [
    "ERA_2016_2018= data[features]"
   ]
  },
  {
   "cell_type": "code",
   "execution_count": 44,
   "metadata": {
    "ExecuteTime": {
     "end_time": "2019-06-26T18:54:11.798020Z",
     "start_time": "2019-06-26T18:54:11.795128Z"
    }
   },
   "outputs": [],
   "source": [
    "ERA_2016_2018.set_index('Name', inplace=True)"
   ]
  },
  {
   "cell_type": "code",
   "execution_count": 45,
   "metadata": {
    "ExecuteTime": {
     "end_time": "2019-06-26T18:54:12.033793Z",
     "start_time": "2019-06-26T18:54:12.018679Z"
    }
   },
   "outputs": [
    {
     "data": {
      "text/plain": [
       "Name\n",
       "Jacob deGrom    2.091803\n",
       "dtype: float64"
      ]
     },
     "execution_count": 45,
     "metadata": {},
     "output_type": "execute_result"
    }
   ],
   "source": [
    "get_map(ERA_2016_2018.head(1))"
   ]
  },
  {
   "cell_type": "code",
   "execution_count": 46,
   "metadata": {
    "ExecuteTime": {
     "end_time": "2019-06-26T18:54:12.319037Z",
     "start_time": "2019-06-26T18:54:12.214457Z"
    }
   },
   "outputs": [
    {
     "name": "stderr",
     "output_type": "stream",
     "text": [
      "/Users/orah82/anaconda3/envs/DSI/lib/python3.7/site-packages/ipykernel_launcher.py:1: SettingWithCopyWarning: \n",
      "A value is trying to be set on a copy of a slice from a DataFrame.\n",
      "Try using .loc[row_indexer,col_indexer] = value instead\n",
      "\n",
      "See the caveats in the documentation: http://pandas.pydata.org/pandas-docs/stable/indexing.html#indexing-view-versus-copy\n",
      "  \"\"\"Entry point for launching an IPython kernel.\n"
     ]
    }
   ],
   "source": [
    "ERA_2016_2018['MAP'] = ERA_2016_2018.apply(get_map, axis=1)"
   ]
  },
  {
   "cell_type": "code",
   "execution_count": 47,
   "metadata": {
    "ExecuteTime": {
     "end_time": "2019-06-26T18:54:12.465453Z",
     "start_time": "2019-06-26T18:54:12.455534Z"
    }
   },
   "outputs": [
    {
     "data": {
      "text/html": [
       "<div>\n",
       "<style scoped>\n",
       "    .dataframe tbody tr th:only-of-type {\n",
       "        vertical-align: middle;\n",
       "    }\n",
       "\n",
       "    .dataframe tbody tr th {\n",
       "        vertical-align: top;\n",
       "    }\n",
       "\n",
       "    .dataframe thead th {\n",
       "        text-align: right;\n",
       "    }\n",
       "</style>\n",
       "<table border=\"1\" class=\"dataframe\">\n",
       "  <thead>\n",
       "    <tr style=\"text-align: right;\">\n",
       "      <th></th>\n",
       "      <th>ER</th>\n",
       "      <th>IP</th>\n",
       "      <th>ERA</th>\n",
       "      <th>MAP</th>\n",
       "    </tr>\n",
       "    <tr>\n",
       "      <th>Name</th>\n",
       "      <th></th>\n",
       "      <th></th>\n",
       "      <th></th>\n",
       "      <th></th>\n",
       "    </tr>\n",
       "  </thead>\n",
       "  <tbody>\n",
       "    <tr>\n",
       "      <th>Zack Britton</th>\n",
       "      <td>4.0</td>\n",
       "      <td>67.0</td>\n",
       "      <td>0.54</td>\n",
       "      <td>1.967742</td>\n",
       "    </tr>\n",
       "    <tr>\n",
       "      <th>Blake Treinen</th>\n",
       "      <td>7.0</td>\n",
       "      <td>80.1</td>\n",
       "      <td>0.78</td>\n",
       "      <td>1.975015</td>\n",
       "    </tr>\n",
       "    <tr>\n",
       "      <th>Jacob deGrom</th>\n",
       "      <td>41.0</td>\n",
       "      <td>217.0</td>\n",
       "      <td>1.70</td>\n",
       "      <td>2.091803</td>\n",
       "    </tr>\n",
       "    <tr>\n",
       "      <th>Clayton Kershaw</th>\n",
       "      <td>28.0</td>\n",
       "      <td>149.0</td>\n",
       "      <td>1.69</td>\n",
       "      <td>2.198312</td>\n",
       "    </tr>\n",
       "    <tr>\n",
       "      <th>Jeremy Jeffress</th>\n",
       "      <td>11.0</td>\n",
       "      <td>76.2</td>\n",
       "      <td>1.29</td>\n",
       "      <td>2.241169</td>\n",
       "    </tr>\n",
       "  </tbody>\n",
       "</table>\n",
       "</div>"
      ],
      "text/plain": [
       "                   ER     IP   ERA       MAP\n",
       "Name                                        \n",
       "Zack Britton      4.0   67.0  0.54  1.967742\n",
       "Blake Treinen     7.0   80.1  0.78  1.975015\n",
       "Jacob deGrom     41.0  217.0  1.70  2.091803\n",
       "Clayton Kershaw  28.0  149.0  1.69  2.198312\n",
       "Jeremy Jeffress  11.0   76.2  1.29  2.241169"
      ]
     },
     "execution_count": 47,
     "metadata": {},
     "output_type": "execute_result"
    }
   ],
   "source": [
    "ERA_2016_2018.sort_values('MAP', ascending=True).head()"
   ]
  },
  {
   "cell_type": "code",
   "execution_count": 48,
   "metadata": {
    "ExecuteTime": {
     "end_time": "2019-06-26T18:54:12.674216Z",
     "start_time": "2019-06-26T18:54:12.663607Z"
    }
   },
   "outputs": [
    {
     "data": {
      "text/html": [
       "<div>\n",
       "<style scoped>\n",
       "    .dataframe tbody tr th:only-of-type {\n",
       "        vertical-align: middle;\n",
       "    }\n",
       "\n",
       "    .dataframe tbody tr th {\n",
       "        vertical-align: top;\n",
       "    }\n",
       "\n",
       "    .dataframe thead th {\n",
       "        text-align: right;\n",
       "    }\n",
       "</style>\n",
       "<table border=\"1\" class=\"dataframe\">\n",
       "  <thead>\n",
       "    <tr style=\"text-align: right;\">\n",
       "      <th></th>\n",
       "      <th>ER</th>\n",
       "      <th>IP</th>\n",
       "      <th>ERA</th>\n",
       "      <th>MAP</th>\n",
       "    </tr>\n",
       "    <tr>\n",
       "      <th>Name</th>\n",
       "      <th></th>\n",
       "      <th></th>\n",
       "      <th></th>\n",
       "      <th></th>\n",
       "    </tr>\n",
       "  </thead>\n",
       "  <tbody>\n",
       "    <tr>\n",
       "      <th>Justin Verlander</th>\n",
       "      <td>60.0</td>\n",
       "      <td>214.0</td>\n",
       "      <td>2.52</td>\n",
       "      <td>2.678808</td>\n",
       "    </tr>\n",
       "    <tr>\n",
       "      <th>Justin Verlander</th>\n",
       "      <td>77.0</td>\n",
       "      <td>227.2</td>\n",
       "      <td>3.04</td>\n",
       "      <td>3.052030</td>\n",
       "    </tr>\n",
       "    <tr>\n",
       "      <th>Justin Verlander</th>\n",
       "      <td>77.0</td>\n",
       "      <td>206.0</td>\n",
       "      <td>3.36</td>\n",
       "      <td>3.272109</td>\n",
       "    </tr>\n",
       "    <tr>\n",
       "      <th>CC Sabathia</th>\n",
       "      <td>78.0</td>\n",
       "      <td>179.2</td>\n",
       "      <td>3.91</td>\n",
       "      <td>3.633982</td>\n",
       "    </tr>\n",
       "    <tr>\n",
       "      <th>CC Sabathia</th>\n",
       "      <td>62.0</td>\n",
       "      <td>153.0</td>\n",
       "      <td>3.65</td>\n",
       "      <td>3.431535</td>\n",
       "    </tr>\n",
       "    <tr>\n",
       "      <th>CC Sabathia</th>\n",
       "      <td>61.0</td>\n",
       "      <td>148.2</td>\n",
       "      <td>3.69</td>\n",
       "      <td>3.463167</td>\n",
       "    </tr>\n",
       "    <tr>\n",
       "      <th>Max Scherzer</th>\n",
       "      <td>62.0</td>\n",
       "      <td>220.2</td>\n",
       "      <td>2.53</td>\n",
       "      <td>2.683323</td>\n",
       "    </tr>\n",
       "    <tr>\n",
       "      <th>Max Scherzer</th>\n",
       "      <td>56.0</td>\n",
       "      <td>200.2</td>\n",
       "      <td>2.51</td>\n",
       "      <td>2.682165</td>\n",
       "    </tr>\n",
       "    <tr>\n",
       "      <th>Max Scherzer</th>\n",
       "      <td>75.0</td>\n",
       "      <td>228.1</td>\n",
       "      <td>2.96</td>\n",
       "      <td>2.986397</td>\n",
       "    </tr>\n",
       "  </tbody>\n",
       "</table>\n",
       "</div>"
      ],
      "text/plain": [
       "                    ER     IP   ERA       MAP\n",
       "Name                                         \n",
       "Justin Verlander  60.0  214.0  2.52  2.678808\n",
       "Justin Verlander  77.0  227.2  3.04  3.052030\n",
       "Justin Verlander  77.0  206.0  3.36  3.272109\n",
       "CC Sabathia       78.0  179.2  3.91  3.633982\n",
       "CC Sabathia       62.0  153.0  3.65  3.431535\n",
       "CC Sabathia       61.0  148.2  3.69  3.463167\n",
       "Max Scherzer      62.0  220.2  2.53  2.683323\n",
       "Max Scherzer      56.0  200.2  2.51  2.682165\n",
       "Max Scherzer      75.0  228.1  2.96  2.986397"
      ]
     },
     "execution_count": 48,
     "metadata": {},
     "output_type": "execute_result"
    }
   ],
   "source": [
    "ERA_2016_2018.loc[['Justin Verlander','CC Sabathia', 'Max Scherzer']]"
   ]
  },
  {
   "cell_type": "code",
   "execution_count": null,
   "metadata": {},
   "outputs": [],
   "source": []
  },
  {
   "cell_type": "code",
   "execution_count": null,
   "metadata": {},
   "outputs": [],
   "source": []
  },
  {
   "cell_type": "code",
   "execution_count": null,
   "metadata": {},
   "outputs": [],
   "source": []
  }
 ],
 "metadata": {
  "kernelspec": {
   "display_name": "Python 3",
   "language": "python",
   "name": "python3"
  },
  "language_info": {
   "codemirror_mode": {
    "name": "ipython",
    "version": 3
   },
   "file_extension": ".py",
   "mimetype": "text/x-python",
   "name": "python",
   "nbconvert_exporter": "python",
   "pygments_lexer": "ipython3",
   "version": "3.7.2"
  }
 },
 "nbformat": 4,
 "nbformat_minor": 2
}
